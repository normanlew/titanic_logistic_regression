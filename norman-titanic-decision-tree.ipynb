{
 "cells": [
  {
   "cell_type": "code",
   "execution_count": 693,
   "metadata": {
    "_cell_guid": "b1076dfc-b9ad-4769-8c92-a6c4dae69d19",
    "_uuid": "8f2839f25d086af736a60e9eeb907d3b93b6e0e5",
    "execution": {
     "iopub.execute_input": "2024-12-04T19:04:24.147881Z",
     "iopub.status.busy": "2024-12-04T19:04:24.147478Z",
     "iopub.status.idle": "2024-12-04T19:04:24.154228Z",
     "shell.execute_reply": "2024-12-04T19:04:24.153011Z",
     "shell.execute_reply.started": "2024-12-04T19:04:24.147846Z"
    }
   },
   "outputs": [],
   "source": [
    "import pandas as pd\n",
    "import numpy as np\n",
    "\n",
    "# Packages for visualization\n",
    "import matplotlib.pyplot as plt\n",
    "import seaborn as sns\n",
    "\n",
    "# Packages for Logistic Regression & Confusion Matrix\n",
    "from sklearn.preprocessing import StandardScaler, OneHotEncoder\n",
    "from sklearn.model_selection import train_test_split\n",
    "from sklearn.metrics import classification_report, accuracy_score, precision_score, \\\n",
    "recall_score, f1_score, confusion_matrix, ConfusionMatrixDisplay\n",
    "from sklearn.linear_model import LogisticRegression"
   ]
  },
  {
   "cell_type": "code",
   "execution_count": 694,
   "metadata": {},
   "outputs": [],
   "source": [
    "# Load libraries\n",
    "from sklearn.tree import DecisionTreeClassifier # Import Decision Tree Classifier\n",
    "from sklearn import metrics #Import scikit-learn metrics module for accuracy calculation\n"
   ]
  },
  {
   "cell_type": "code",
   "execution_count": 695,
   "metadata": {},
   "outputs": [],
   "source": [
    "pd.set_option('display.max_rows', None)"
   ]
  },
  {
   "cell_type": "code",
   "execution_count": 696,
   "metadata": {
    "execution": {
     "iopub.execute_input": "2024-12-04T19:04:24.156176Z",
     "iopub.status.busy": "2024-12-04T19:04:24.155820Z",
     "iopub.status.idle": "2024-12-04T19:04:24.230065Z",
     "shell.execute_reply": "2024-12-04T19:04:24.229090Z",
     "shell.execute_reply.started": "2024-12-04T19:04:24.156144Z"
    }
   },
   "outputs": [],
   "source": [
    "train_data = pd.read_csv(\"train.csv\")"
   ]
  },
  {
   "cell_type": "code",
   "execution_count": 697,
   "metadata": {
    "execution": {
     "iopub.execute_input": "2024-12-04T19:04:24.232112Z",
     "iopub.status.busy": "2024-12-04T19:04:24.231768Z",
     "iopub.status.idle": "2024-12-04T19:04:24.246120Z",
     "shell.execute_reply": "2024-12-04T19:04:24.245110Z",
     "shell.execute_reply.started": "2024-12-04T19:04:24.232081Z"
    }
   },
   "outputs": [
    {
     "data": {
      "text/html": [
       "<div>\n",
       "<style scoped>\n",
       "    .dataframe tbody tr th:only-of-type {\n",
       "        vertical-align: middle;\n",
       "    }\n",
       "\n",
       "    .dataframe tbody tr th {\n",
       "        vertical-align: top;\n",
       "    }\n",
       "\n",
       "    .dataframe thead th {\n",
       "        text-align: right;\n",
       "    }\n",
       "</style>\n",
       "<table border=\"1\" class=\"dataframe\">\n",
       "  <thead>\n",
       "    <tr style=\"text-align: right;\">\n",
       "      <th></th>\n",
       "      <th>PassengerId</th>\n",
       "      <th>Survived</th>\n",
       "      <th>Pclass</th>\n",
       "      <th>Name</th>\n",
       "      <th>Sex</th>\n",
       "      <th>Age</th>\n",
       "      <th>SibSp</th>\n",
       "      <th>Parch</th>\n",
       "      <th>Ticket</th>\n",
       "      <th>Fare</th>\n",
       "      <th>Cabin</th>\n",
       "      <th>Embarked</th>\n",
       "    </tr>\n",
       "  </thead>\n",
       "  <tbody>\n",
       "    <tr>\n",
       "      <th>0</th>\n",
       "      <td>1</td>\n",
       "      <td>0</td>\n",
       "      <td>3</td>\n",
       "      <td>Braund, Mr. Owen Harris</td>\n",
       "      <td>male</td>\n",
       "      <td>22.0</td>\n",
       "      <td>1</td>\n",
       "      <td>0</td>\n",
       "      <td>A/5 21171</td>\n",
       "      <td>7.2500</td>\n",
       "      <td>NaN</td>\n",
       "      <td>S</td>\n",
       "    </tr>\n",
       "    <tr>\n",
       "      <th>1</th>\n",
       "      <td>2</td>\n",
       "      <td>1</td>\n",
       "      <td>1</td>\n",
       "      <td>Cumings, Mrs. John Bradley (Florence Briggs Th...</td>\n",
       "      <td>female</td>\n",
       "      <td>38.0</td>\n",
       "      <td>1</td>\n",
       "      <td>0</td>\n",
       "      <td>PC 17599</td>\n",
       "      <td>71.2833</td>\n",
       "      <td>C85</td>\n",
       "      <td>C</td>\n",
       "    </tr>\n",
       "    <tr>\n",
       "      <th>2</th>\n",
       "      <td>3</td>\n",
       "      <td>1</td>\n",
       "      <td>3</td>\n",
       "      <td>Heikkinen, Miss. Laina</td>\n",
       "      <td>female</td>\n",
       "      <td>26.0</td>\n",
       "      <td>0</td>\n",
       "      <td>0</td>\n",
       "      <td>STON/O2. 3101282</td>\n",
       "      <td>7.9250</td>\n",
       "      <td>NaN</td>\n",
       "      <td>S</td>\n",
       "    </tr>\n",
       "    <tr>\n",
       "      <th>3</th>\n",
       "      <td>4</td>\n",
       "      <td>1</td>\n",
       "      <td>1</td>\n",
       "      <td>Futrelle, Mrs. Jacques Heath (Lily May Peel)</td>\n",
       "      <td>female</td>\n",
       "      <td>35.0</td>\n",
       "      <td>1</td>\n",
       "      <td>0</td>\n",
       "      <td>113803</td>\n",
       "      <td>53.1000</td>\n",
       "      <td>C123</td>\n",
       "      <td>S</td>\n",
       "    </tr>\n",
       "    <tr>\n",
       "      <th>4</th>\n",
       "      <td>5</td>\n",
       "      <td>0</td>\n",
       "      <td>3</td>\n",
       "      <td>Allen, Mr. William Henry</td>\n",
       "      <td>male</td>\n",
       "      <td>35.0</td>\n",
       "      <td>0</td>\n",
       "      <td>0</td>\n",
       "      <td>373450</td>\n",
       "      <td>8.0500</td>\n",
       "      <td>NaN</td>\n",
       "      <td>S</td>\n",
       "    </tr>\n",
       "  </tbody>\n",
       "</table>\n",
       "</div>"
      ],
      "text/plain": [
       "   PassengerId  Survived  Pclass  \\\n",
       "0            1         0       3   \n",
       "1            2         1       1   \n",
       "2            3         1       3   \n",
       "3            4         1       1   \n",
       "4            5         0       3   \n",
       "\n",
       "                                                Name     Sex   Age  SibSp  \\\n",
       "0                            Braund, Mr. Owen Harris    male  22.0      1   \n",
       "1  Cumings, Mrs. John Bradley (Florence Briggs Th...  female  38.0      1   \n",
       "2                             Heikkinen, Miss. Laina  female  26.0      0   \n",
       "3       Futrelle, Mrs. Jacques Heath (Lily May Peel)  female  35.0      1   \n",
       "4                           Allen, Mr. William Henry    male  35.0      0   \n",
       "\n",
       "   Parch            Ticket     Fare Cabin Embarked  \n",
       "0      0         A/5 21171   7.2500   NaN        S  \n",
       "1      0          PC 17599  71.2833   C85        C  \n",
       "2      0  STON/O2. 3101282   7.9250   NaN        S  \n",
       "3      0            113803  53.1000  C123        S  \n",
       "4      0            373450   8.0500   NaN        S  "
      ]
     },
     "execution_count": 697,
     "metadata": {},
     "output_type": "execute_result"
    }
   ],
   "source": [
    "train_data.head()"
   ]
  },
  {
   "cell_type": "code",
   "execution_count": 698,
   "metadata": {
    "execution": {
     "iopub.execute_input": "2024-12-04T19:04:24.247638Z",
     "iopub.status.busy": "2024-12-04T19:04:24.247323Z",
     "iopub.status.idle": "2024-12-04T19:04:24.262881Z",
     "shell.execute_reply": "2024-12-04T19:04:24.261718Z",
     "shell.execute_reply.started": "2024-12-04T19:04:24.247608Z"
    }
   },
   "outputs": [],
   "source": [
    "test_data = pd.read_csv(\"test.csv\")"
   ]
  },
  {
   "cell_type": "code",
   "execution_count": 699,
   "metadata": {
    "execution": {
     "iopub.execute_input": "2024-12-04T19:04:24.265315Z",
     "iopub.status.busy": "2024-12-04T19:04:24.264893Z",
     "iopub.status.idle": "2024-12-04T19:04:24.279573Z",
     "shell.execute_reply": "2024-12-04T19:04:24.278421Z",
     "shell.execute_reply.started": "2024-12-04T19:04:24.265281Z"
    }
   },
   "outputs": [
    {
     "data": {
      "text/html": [
       "<div>\n",
       "<style scoped>\n",
       "    .dataframe tbody tr th:only-of-type {\n",
       "        vertical-align: middle;\n",
       "    }\n",
       "\n",
       "    .dataframe tbody tr th {\n",
       "        vertical-align: top;\n",
       "    }\n",
       "\n",
       "    .dataframe thead th {\n",
       "        text-align: right;\n",
       "    }\n",
       "</style>\n",
       "<table border=\"1\" class=\"dataframe\">\n",
       "  <thead>\n",
       "    <tr style=\"text-align: right;\">\n",
       "      <th></th>\n",
       "      <th>PassengerId</th>\n",
       "      <th>Pclass</th>\n",
       "      <th>Name</th>\n",
       "      <th>Sex</th>\n",
       "      <th>Age</th>\n",
       "      <th>SibSp</th>\n",
       "      <th>Parch</th>\n",
       "      <th>Ticket</th>\n",
       "      <th>Fare</th>\n",
       "      <th>Cabin</th>\n",
       "      <th>Embarked</th>\n",
       "    </tr>\n",
       "  </thead>\n",
       "  <tbody>\n",
       "    <tr>\n",
       "      <th>0</th>\n",
       "      <td>892</td>\n",
       "      <td>3</td>\n",
       "      <td>Kelly, Mr. James</td>\n",
       "      <td>male</td>\n",
       "      <td>34.5</td>\n",
       "      <td>0</td>\n",
       "      <td>0</td>\n",
       "      <td>330911</td>\n",
       "      <td>7.8292</td>\n",
       "      <td>NaN</td>\n",
       "      <td>Q</td>\n",
       "    </tr>\n",
       "    <tr>\n",
       "      <th>1</th>\n",
       "      <td>893</td>\n",
       "      <td>3</td>\n",
       "      <td>Wilkes, Mrs. James (Ellen Needs)</td>\n",
       "      <td>female</td>\n",
       "      <td>47.0</td>\n",
       "      <td>1</td>\n",
       "      <td>0</td>\n",
       "      <td>363272</td>\n",
       "      <td>7.0000</td>\n",
       "      <td>NaN</td>\n",
       "      <td>S</td>\n",
       "    </tr>\n",
       "    <tr>\n",
       "      <th>2</th>\n",
       "      <td>894</td>\n",
       "      <td>2</td>\n",
       "      <td>Myles, Mr. Thomas Francis</td>\n",
       "      <td>male</td>\n",
       "      <td>62.0</td>\n",
       "      <td>0</td>\n",
       "      <td>0</td>\n",
       "      <td>240276</td>\n",
       "      <td>9.6875</td>\n",
       "      <td>NaN</td>\n",
       "      <td>Q</td>\n",
       "    </tr>\n",
       "    <tr>\n",
       "      <th>3</th>\n",
       "      <td>895</td>\n",
       "      <td>3</td>\n",
       "      <td>Wirz, Mr. Albert</td>\n",
       "      <td>male</td>\n",
       "      <td>27.0</td>\n",
       "      <td>0</td>\n",
       "      <td>0</td>\n",
       "      <td>315154</td>\n",
       "      <td>8.6625</td>\n",
       "      <td>NaN</td>\n",
       "      <td>S</td>\n",
       "    </tr>\n",
       "    <tr>\n",
       "      <th>4</th>\n",
       "      <td>896</td>\n",
       "      <td>3</td>\n",
       "      <td>Hirvonen, Mrs. Alexander (Helga E Lindqvist)</td>\n",
       "      <td>female</td>\n",
       "      <td>22.0</td>\n",
       "      <td>1</td>\n",
       "      <td>1</td>\n",
       "      <td>3101298</td>\n",
       "      <td>12.2875</td>\n",
       "      <td>NaN</td>\n",
       "      <td>S</td>\n",
       "    </tr>\n",
       "  </tbody>\n",
       "</table>\n",
       "</div>"
      ],
      "text/plain": [
       "   PassengerId  Pclass                                          Name     Sex  \\\n",
       "0          892       3                              Kelly, Mr. James    male   \n",
       "1          893       3              Wilkes, Mrs. James (Ellen Needs)  female   \n",
       "2          894       2                     Myles, Mr. Thomas Francis    male   \n",
       "3          895       3                              Wirz, Mr. Albert    male   \n",
       "4          896       3  Hirvonen, Mrs. Alexander (Helga E Lindqvist)  female   \n",
       "\n",
       "    Age  SibSp  Parch   Ticket     Fare Cabin Embarked  \n",
       "0  34.5      0      0   330911   7.8292   NaN        Q  \n",
       "1  47.0      1      0   363272   7.0000   NaN        S  \n",
       "2  62.0      0      0   240276   9.6875   NaN        Q  \n",
       "3  27.0      0      0   315154   8.6625   NaN        S  \n",
       "4  22.0      1      1  3101298  12.2875   NaN        S  "
      ]
     },
     "execution_count": 699,
     "metadata": {},
     "output_type": "execute_result"
    }
   ],
   "source": [
    "test_data.head()"
   ]
  },
  {
   "cell_type": "code",
   "execution_count": 700,
   "metadata": {
    "execution": {
     "iopub.execute_input": "2024-12-04T19:04:24.281202Z",
     "iopub.status.busy": "2024-12-04T19:04:24.280780Z",
     "iopub.status.idle": "2024-12-04T19:04:24.298582Z",
     "shell.execute_reply": "2024-12-04T19:04:24.297325Z",
     "shell.execute_reply.started": "2024-12-04T19:04:24.281155Z"
    }
   },
   "outputs": [
    {
     "name": "stdout",
     "output_type": "stream",
     "text": [
      "<class 'pandas.core.frame.DataFrame'>\n",
      "RangeIndex: 891 entries, 0 to 890\n",
      "Data columns (total 12 columns):\n",
      " #   Column       Non-Null Count  Dtype  \n",
      "---  ------       --------------  -----  \n",
      " 0   PassengerId  891 non-null    int64  \n",
      " 1   Survived     891 non-null    int64  \n",
      " 2   Pclass       891 non-null    int64  \n",
      " 3   Name         891 non-null    object \n",
      " 4   Sex          891 non-null    object \n",
      " 5   Age          714 non-null    float64\n",
      " 6   SibSp        891 non-null    int64  \n",
      " 7   Parch        891 non-null    int64  \n",
      " 8   Ticket       891 non-null    object \n",
      " 9   Fare         891 non-null    float64\n",
      " 10  Cabin        204 non-null    object \n",
      " 11  Embarked     889 non-null    object \n",
      "dtypes: float64(2), int64(5), object(5)\n",
      "memory usage: 83.7+ KB\n"
     ]
    }
   ],
   "source": [
    "train_data.info()"
   ]
  },
  {
   "cell_type": "code",
   "execution_count": 701,
   "metadata": {
    "execution": {
     "iopub.execute_input": "2024-12-04T19:04:24.301990Z",
     "iopub.status.busy": "2024-12-04T19:04:24.301618Z",
     "iopub.status.idle": "2024-12-04T19:04:24.332494Z",
     "shell.execute_reply": "2024-12-04T19:04:24.331397Z",
     "shell.execute_reply.started": "2024-12-04T19:04:24.301929Z"
    }
   },
   "outputs": [
    {
     "data": {
      "text/html": [
       "<div>\n",
       "<style scoped>\n",
       "    .dataframe tbody tr th:only-of-type {\n",
       "        vertical-align: middle;\n",
       "    }\n",
       "\n",
       "    .dataframe tbody tr th {\n",
       "        vertical-align: top;\n",
       "    }\n",
       "\n",
       "    .dataframe thead th {\n",
       "        text-align: right;\n",
       "    }\n",
       "</style>\n",
       "<table border=\"1\" class=\"dataframe\">\n",
       "  <thead>\n",
       "    <tr style=\"text-align: right;\">\n",
       "      <th></th>\n",
       "      <th>PassengerId</th>\n",
       "      <th>Survived</th>\n",
       "      <th>Pclass</th>\n",
       "      <th>Age</th>\n",
       "      <th>SibSp</th>\n",
       "      <th>Parch</th>\n",
       "      <th>Fare</th>\n",
       "    </tr>\n",
       "  </thead>\n",
       "  <tbody>\n",
       "    <tr>\n",
       "      <th>count</th>\n",
       "      <td>891.000000</td>\n",
       "      <td>891.000000</td>\n",
       "      <td>891.000000</td>\n",
       "      <td>714.000000</td>\n",
       "      <td>891.000000</td>\n",
       "      <td>891.000000</td>\n",
       "      <td>891.000000</td>\n",
       "    </tr>\n",
       "    <tr>\n",
       "      <th>mean</th>\n",
       "      <td>446.000000</td>\n",
       "      <td>0.383838</td>\n",
       "      <td>2.308642</td>\n",
       "      <td>29.699118</td>\n",
       "      <td>0.523008</td>\n",
       "      <td>0.381594</td>\n",
       "      <td>32.204208</td>\n",
       "    </tr>\n",
       "    <tr>\n",
       "      <th>std</th>\n",
       "      <td>257.353842</td>\n",
       "      <td>0.486592</td>\n",
       "      <td>0.836071</td>\n",
       "      <td>14.526497</td>\n",
       "      <td>1.102743</td>\n",
       "      <td>0.806057</td>\n",
       "      <td>49.693429</td>\n",
       "    </tr>\n",
       "    <tr>\n",
       "      <th>min</th>\n",
       "      <td>1.000000</td>\n",
       "      <td>0.000000</td>\n",
       "      <td>1.000000</td>\n",
       "      <td>0.420000</td>\n",
       "      <td>0.000000</td>\n",
       "      <td>0.000000</td>\n",
       "      <td>0.000000</td>\n",
       "    </tr>\n",
       "    <tr>\n",
       "      <th>25%</th>\n",
       "      <td>223.500000</td>\n",
       "      <td>0.000000</td>\n",
       "      <td>2.000000</td>\n",
       "      <td>20.125000</td>\n",
       "      <td>0.000000</td>\n",
       "      <td>0.000000</td>\n",
       "      <td>7.910400</td>\n",
       "    </tr>\n",
       "    <tr>\n",
       "      <th>50%</th>\n",
       "      <td>446.000000</td>\n",
       "      <td>0.000000</td>\n",
       "      <td>3.000000</td>\n",
       "      <td>28.000000</td>\n",
       "      <td>0.000000</td>\n",
       "      <td>0.000000</td>\n",
       "      <td>14.454200</td>\n",
       "    </tr>\n",
       "    <tr>\n",
       "      <th>75%</th>\n",
       "      <td>668.500000</td>\n",
       "      <td>1.000000</td>\n",
       "      <td>3.000000</td>\n",
       "      <td>38.000000</td>\n",
       "      <td>1.000000</td>\n",
       "      <td>0.000000</td>\n",
       "      <td>31.000000</td>\n",
       "    </tr>\n",
       "    <tr>\n",
       "      <th>max</th>\n",
       "      <td>891.000000</td>\n",
       "      <td>1.000000</td>\n",
       "      <td>3.000000</td>\n",
       "      <td>80.000000</td>\n",
       "      <td>8.000000</td>\n",
       "      <td>6.000000</td>\n",
       "      <td>512.329200</td>\n",
       "    </tr>\n",
       "  </tbody>\n",
       "</table>\n",
       "</div>"
      ],
      "text/plain": [
       "       PassengerId    Survived      Pclass         Age       SibSp  \\\n",
       "count   891.000000  891.000000  891.000000  714.000000  891.000000   \n",
       "mean    446.000000    0.383838    2.308642   29.699118    0.523008   \n",
       "std     257.353842    0.486592    0.836071   14.526497    1.102743   \n",
       "min       1.000000    0.000000    1.000000    0.420000    0.000000   \n",
       "25%     223.500000    0.000000    2.000000   20.125000    0.000000   \n",
       "50%     446.000000    0.000000    3.000000   28.000000    0.000000   \n",
       "75%     668.500000    1.000000    3.000000   38.000000    1.000000   \n",
       "max     891.000000    1.000000    3.000000   80.000000    8.000000   \n",
       "\n",
       "            Parch        Fare  \n",
       "count  891.000000  891.000000  \n",
       "mean     0.381594   32.204208  \n",
       "std      0.806057   49.693429  \n",
       "min      0.000000    0.000000  \n",
       "25%      0.000000    7.910400  \n",
       "50%      0.000000   14.454200  \n",
       "75%      0.000000   31.000000  \n",
       "max      6.000000  512.329200  "
      ]
     },
     "execution_count": 701,
     "metadata": {},
     "output_type": "execute_result"
    }
   ],
   "source": [
    "train_data.describe()"
   ]
  },
  {
   "cell_type": "code",
   "execution_count": 702,
   "metadata": {},
   "outputs": [],
   "source": [
    "train_reg = train_data.copy()"
   ]
  },
  {
   "cell_type": "code",
   "execution_count": 703,
   "metadata": {},
   "outputs": [
    {
     "data": {
      "text/plain": [
       "PassengerId      0\n",
       "Survived         0\n",
       "Pclass           0\n",
       "Name             0\n",
       "Sex              0\n",
       "Age            177\n",
       "SibSp            0\n",
       "Parch            0\n",
       "Ticket           0\n",
       "Fare             0\n",
       "Cabin          687\n",
       "Embarked         2\n",
       "dtype: int64"
      ]
     },
     "execution_count": 703,
     "metadata": {},
     "output_type": "execute_result"
    }
   ],
   "source": [
    "train_data.isnull().sum()"
   ]
  },
  {
   "cell_type": "code",
   "execution_count": 704,
   "metadata": {
    "execution": {
     "iopub.execute_input": "2024-12-04T19:04:24.334325Z",
     "iopub.status.busy": "2024-12-04T19:04:24.333998Z",
     "iopub.status.idle": "2024-12-04T19:04:24.341691Z",
     "shell.execute_reply": "2024-12-04T19:04:24.340599Z",
     "shell.execute_reply.started": "2024-12-04T19:04:24.334285Z"
    }
   },
   "outputs": [],
   "source": [
    "train_data['Surname'] = train_data['Name'].str.split(',').str.get(0)"
   ]
  },
  {
   "cell_type": "code",
   "execution_count": 705,
   "metadata": {
    "execution": {
     "iopub.execute_input": "2024-12-04T19:04:24.344659Z",
     "iopub.status.busy": "2024-12-04T19:04:24.344243Z",
     "iopub.status.idle": "2024-12-04T19:04:24.364084Z",
     "shell.execute_reply": "2024-12-04T19:04:24.363081Z",
     "shell.execute_reply.started": "2024-12-04T19:04:24.344617Z"
    }
   },
   "outputs": [
    {
     "data": {
      "text/html": [
       "<div>\n",
       "<style scoped>\n",
       "    .dataframe tbody tr th:only-of-type {\n",
       "        vertical-align: middle;\n",
       "    }\n",
       "\n",
       "    .dataframe tbody tr th {\n",
       "        vertical-align: top;\n",
       "    }\n",
       "\n",
       "    .dataframe thead th {\n",
       "        text-align: right;\n",
       "    }\n",
       "</style>\n",
       "<table border=\"1\" class=\"dataframe\">\n",
       "  <thead>\n",
       "    <tr style=\"text-align: right;\">\n",
       "      <th></th>\n",
       "      <th>PassengerId</th>\n",
       "      <th>Survived</th>\n",
       "      <th>Pclass</th>\n",
       "      <th>Name</th>\n",
       "      <th>Sex</th>\n",
       "      <th>Age</th>\n",
       "      <th>SibSp</th>\n",
       "      <th>Parch</th>\n",
       "      <th>Ticket</th>\n",
       "      <th>Fare</th>\n",
       "      <th>Cabin</th>\n",
       "      <th>Embarked</th>\n",
       "      <th>Surname</th>\n",
       "    </tr>\n",
       "  </thead>\n",
       "  <tbody>\n",
       "    <tr>\n",
       "      <th>0</th>\n",
       "      <td>1</td>\n",
       "      <td>0</td>\n",
       "      <td>3</td>\n",
       "      <td>Braund, Mr. Owen Harris</td>\n",
       "      <td>male</td>\n",
       "      <td>22.0</td>\n",
       "      <td>1</td>\n",
       "      <td>0</td>\n",
       "      <td>A/5 21171</td>\n",
       "      <td>7.2500</td>\n",
       "      <td>NaN</td>\n",
       "      <td>S</td>\n",
       "      <td>Braund</td>\n",
       "    </tr>\n",
       "    <tr>\n",
       "      <th>1</th>\n",
       "      <td>2</td>\n",
       "      <td>1</td>\n",
       "      <td>1</td>\n",
       "      <td>Cumings, Mrs. John Bradley (Florence Briggs Th...</td>\n",
       "      <td>female</td>\n",
       "      <td>38.0</td>\n",
       "      <td>1</td>\n",
       "      <td>0</td>\n",
       "      <td>PC 17599</td>\n",
       "      <td>71.2833</td>\n",
       "      <td>C85</td>\n",
       "      <td>C</td>\n",
       "      <td>Cumings</td>\n",
       "    </tr>\n",
       "    <tr>\n",
       "      <th>2</th>\n",
       "      <td>3</td>\n",
       "      <td>1</td>\n",
       "      <td>3</td>\n",
       "      <td>Heikkinen, Miss. Laina</td>\n",
       "      <td>female</td>\n",
       "      <td>26.0</td>\n",
       "      <td>0</td>\n",
       "      <td>0</td>\n",
       "      <td>STON/O2. 3101282</td>\n",
       "      <td>7.9250</td>\n",
       "      <td>NaN</td>\n",
       "      <td>S</td>\n",
       "      <td>Heikkinen</td>\n",
       "    </tr>\n",
       "    <tr>\n",
       "      <th>3</th>\n",
       "      <td>4</td>\n",
       "      <td>1</td>\n",
       "      <td>1</td>\n",
       "      <td>Futrelle, Mrs. Jacques Heath (Lily May Peel)</td>\n",
       "      <td>female</td>\n",
       "      <td>35.0</td>\n",
       "      <td>1</td>\n",
       "      <td>0</td>\n",
       "      <td>113803</td>\n",
       "      <td>53.1000</td>\n",
       "      <td>C123</td>\n",
       "      <td>S</td>\n",
       "      <td>Futrelle</td>\n",
       "    </tr>\n",
       "    <tr>\n",
       "      <th>4</th>\n",
       "      <td>5</td>\n",
       "      <td>0</td>\n",
       "      <td>3</td>\n",
       "      <td>Allen, Mr. William Henry</td>\n",
       "      <td>male</td>\n",
       "      <td>35.0</td>\n",
       "      <td>0</td>\n",
       "      <td>0</td>\n",
       "      <td>373450</td>\n",
       "      <td>8.0500</td>\n",
       "      <td>NaN</td>\n",
       "      <td>S</td>\n",
       "      <td>Allen</td>\n",
       "    </tr>\n",
       "  </tbody>\n",
       "</table>\n",
       "</div>"
      ],
      "text/plain": [
       "   PassengerId  Survived  Pclass  \\\n",
       "0            1         0       3   \n",
       "1            2         1       1   \n",
       "2            3         1       3   \n",
       "3            4         1       1   \n",
       "4            5         0       3   \n",
       "\n",
       "                                                Name     Sex   Age  SibSp  \\\n",
       "0                            Braund, Mr. Owen Harris    male  22.0      1   \n",
       "1  Cumings, Mrs. John Bradley (Florence Briggs Th...  female  38.0      1   \n",
       "2                             Heikkinen, Miss. Laina  female  26.0      0   \n",
       "3       Futrelle, Mrs. Jacques Heath (Lily May Peel)  female  35.0      1   \n",
       "4                           Allen, Mr. William Henry    male  35.0      0   \n",
       "\n",
       "   Parch            Ticket     Fare Cabin Embarked    Surname  \n",
       "0      0         A/5 21171   7.2500   NaN        S     Braund  \n",
       "1      0          PC 17599  71.2833   C85        C    Cumings  \n",
       "2      0  STON/O2. 3101282   7.9250   NaN        S  Heikkinen  \n",
       "3      0            113803  53.1000  C123        S   Futrelle  \n",
       "4      0            373450   8.0500   NaN        S      Allen  "
      ]
     },
     "execution_count": 705,
     "metadata": {},
     "output_type": "execute_result"
    }
   ],
   "source": [
    "train_data.head()"
   ]
  },
  {
   "cell_type": "code",
   "execution_count": 706,
   "metadata": {},
   "outputs": [
    {
     "data": {
      "text/plain": [
       "pandas.core.frame.DataFrame"
      ]
     },
     "execution_count": 706,
     "metadata": {},
     "output_type": "execute_result"
    }
   ],
   "source": [
    "type(train_data)"
   ]
  },
  {
   "cell_type": "code",
   "execution_count": 707,
   "metadata": {},
   "outputs": [
    {
     "data": {
      "text/plain": [
       "PassengerId      0\n",
       "Survived         0\n",
       "Pclass           0\n",
       "Name             0\n",
       "Sex              0\n",
       "Age            177\n",
       "SibSp            0\n",
       "Parch            0\n",
       "Ticket           0\n",
       "Fare             0\n",
       "Cabin          687\n",
       "Embarked         2\n",
       "Surname          0\n",
       "dtype: int64"
      ]
     },
     "execution_count": 707,
     "metadata": {},
     "output_type": "execute_result"
    }
   ],
   "source": [
    "train_data.isnull().sum()"
   ]
  },
  {
   "cell_type": "code",
   "execution_count": 708,
   "metadata": {},
   "outputs": [
    {
     "data": {
      "text/plain": [
       "0"
      ]
     },
     "execution_count": 708,
     "metadata": {},
     "output_type": "execute_result"
    }
   ],
   "source": [
    "train_data.duplicated().sum()"
   ]
  },
  {
   "cell_type": "code",
   "execution_count": 709,
   "metadata": {
    "execution": {
     "iopub.execute_input": "2024-12-04T19:04:24.366517Z",
     "iopub.status.busy": "2024-12-04T19:04:24.366161Z",
     "iopub.status.idle": "2024-12-04T19:04:24.377958Z",
     "shell.execute_reply": "2024-12-04T19:04:24.376907Z",
     "shell.execute_reply.started": "2024-12-04T19:04:24.366481Z"
    }
   },
   "outputs": [
    {
     "data": {
      "text/plain": [
       "667"
      ]
     },
     "execution_count": 709,
     "metadata": {},
     "output_type": "execute_result"
    }
   ],
   "source": [
    "len(train_data['Surname'].unique())"
   ]
  },
  {
   "cell_type": "code",
   "execution_count": 710,
   "metadata": {
    "execution": {
     "iopub.execute_input": "2024-12-04T19:04:24.379502Z",
     "iopub.status.busy": "2024-12-04T19:04:24.379204Z",
     "iopub.status.idle": "2024-12-04T19:04:24.392162Z",
     "shell.execute_reply": "2024-12-04T19:04:24.391167Z",
     "shell.execute_reply.started": "2024-12-04T19:04:24.379470Z"
    }
   },
   "outputs": [
    {
     "data": {
      "text/plain": [
       "Andersson                 9\n",
       "Sage                      7\n",
       "Goodwin                   6\n",
       "Johnson                   6\n",
       "Carter                    6\n",
       "Panula                    6\n",
       "Skoog                     6\n",
       "Rice                      5\n",
       "Williams                  4\n",
       "Brown                     4\n",
       "Baclini                   4\n",
       "Ford                      4\n",
       "Palsson                   4\n",
       "Harris                    4\n",
       "Fortune                   4\n",
       "Harper                    4\n",
       "Kelly                     4\n",
       "Asplund                   4\n",
       "Gustafsson                4\n",
       "Lefebre                   4\n",
       "Smith                     4\n",
       "Hart                      4\n",
       "Collyer                   3\n",
       "Olsen                     3\n",
       "Bourke                    3\n",
       "Meyer                     3\n",
       "Navratil                  3\n",
       "Johansson                 3\n",
       "Allison                   3\n",
       "Taussig                   3\n",
       "Thayer                    3\n",
       "West                      3\n",
       "Hickman                   3\n",
       "Van Impe                  3\n",
       "Vander Planke             3\n",
       "Flynn                     3\n",
       "Richards                  3\n",
       "Hansen                    3\n",
       "Jussila                   3\n",
       "Laroche                   3\n",
       "Goldsmith                 3\n",
       "Elias                     3\n",
       "Boulos                    3\n",
       "Davies                    3\n",
       "Newell                    3\n",
       "Graham                    3\n",
       "O'Brien                   3\n",
       "Jensen                    3\n",
       "Hoyt                      3\n",
       "Moran                     3\n",
       "Johnston                  2\n",
       "Herman                    2\n",
       "Minahan                   2\n",
       "Svensson                  2\n",
       "Silvey                    2\n",
       "Bishop                    2\n",
       "Beckwith                  2\n",
       "McCoy                     2\n",
       "Nakid                     2\n",
       "Nicola-Yarred             2\n",
       "Becker                    2\n",
       "Morley                    2\n",
       "Duff Gordon               2\n",
       "Quick                     2\n",
       "Caldwell                  2\n",
       "Dean                      2\n",
       "Ryerson                   2\n",
       "Chambers                  2\n",
       "Peter                     2\n",
       "Lobb                      2\n",
       "Attalah                   2\n",
       "Pears                     2\n",
       "Mellinger                 2\n",
       "Goldenberg                2\n",
       "Braund                    2\n",
       "Sandstrom                 2\n",
       "Larsson                   2\n",
       "Ali                       2\n",
       "Holverson                 2\n",
       "Penasco y Castellana      2\n",
       "Futrelle                  2\n",
       "Danbom                    2\n",
       "Webber                    2\n",
       "Cacic                     2\n",
       "White                     2\n",
       "Keane                     2\n",
       "Calic                     2\n",
       "Hays                      2\n",
       "Carlsson                  2\n",
       "Baxter                    2\n",
       "Hocking                   2\n",
       "Petroff                   2\n",
       "Hagland                   2\n",
       "Wick                      2\n",
       "Hippach                   2\n",
       "Kantor                    2\n",
       "Abbott                    2\n",
       "Turpin                    2\n",
       "Lam                       2\n",
       "Murphy                    2\n",
       "Allen                     2\n",
       "Mallet                    2\n",
       "Oreskovic                 2\n",
       "Thorneycroft              2\n",
       "Strom                     2\n",
       "Dick                      2\n",
       "Olsson                    2\n",
       "Arnold-Franchi            2\n",
       "Saad                      2\n",
       "Backstrom                 2\n",
       "Taylor                    2\n",
       "Zabour                    2\n",
       "Andrews                   2\n",
       "Abelson                   2\n",
       "Crosby                    2\n",
       "Beane                     2\n",
       "Barbara                   2\n",
       "Chapman                   2\n",
       "Jacobsohn                 2\n",
       "Stanley                   2\n",
       "Daly                      2\n",
       "Yasbeck                   2\n",
       "Moor                      2\n",
       "Coutts                    2\n",
       "Renouf                    2\n",
       "Moubarek                  2\n",
       "Rosblom                   2\n",
       "Doling                    2\n",
       "Nasser                    2\n",
       "Coleff                    2\n",
       "Frauenthal                2\n",
       "Hamalainen                2\n",
       "Hakkarainen               2\n",
       "Odahl                     1\n",
       "Denkoff                   1\n",
       "Pettersson                1\n",
       "Calderhead                1\n",
       "Appleton                  1\n",
       "Tobin                     1\n",
       "Horgan                    1\n",
       "Jonkoff                   1\n",
       "Gillespie                 1\n",
       "Bryhl                     1\n",
       "Karaic                    1\n",
       "Duane                     1\n",
       "Jonsson                   1\n",
       "Pavlovic                  1\n",
       "Nosworthy                 1\n",
       "Smart                     1\n",
       "Matthews                  1\n",
       "Jalsevac                  1\n",
       "Moussa                    1\n",
       "Dahlberg                  1\n",
       "Hedman                    1\n",
       "Sawyer                    1\n",
       "Albimona                  1\n",
       "Behr                      1\n",
       "Marechal                  1\n",
       "Laitinen                  1\n",
       "Bracken                   1\n",
       "Stone                     1\n",
       "Cumings                   1\n",
       "Cohen                     1\n",
       "McKane                    1\n",
       "Laleff                    1\n",
       "Parr                      1\n",
       "Rommetvedt                1\n",
       "Barton                    1\n",
       "Cameron                   1\n",
       "Christmann                1\n",
       "Markun                    1\n",
       "Najib                     1\n",
       "Blank                     1\n",
       "Honkanen                  1\n",
       "Serepeca                  1\n",
       "Harknett                  1\n",
       "Cunningham                1\n",
       "Simonius-Blumer           1\n",
       "Ward                      1\n",
       "Alexander                 1\n",
       "Mellors                   1\n",
       "Mudd                      1\n",
       "Tikkanen                  1\n",
       "Danoff                    1\n",
       "Sunderland                1\n",
       "Sjoblom                   1\n",
       "Reuchlin                  1\n",
       "Henry                     1\n",
       "Tomlin                    1\n",
       "Betros                    1\n",
       "Tornquist                 1\n",
       "Charters                  1\n",
       "Frost                     1\n",
       "Saundercock               1\n",
       "Shorney                   1\n",
       "Culumovic                 1\n",
       "Patchett                  1\n",
       "McNamee                   1\n",
       "Windelov                  1\n",
       "Stahelin-Maeglin          1\n",
       "Dowdell                   1\n",
       "de Messemaeker            1\n",
       "Shellard                  1\n",
       "Mernagh                   1\n",
       "Sheerlinck                1\n",
       "Funk                      1\n",
       "Rouse                     1\n",
       "Maisner                   1\n",
       "Celotti                   1\n",
       "Samaan                    1\n",
       "Perreault                 1\n",
       "Augustsson                1\n",
       "Sobey                     1\n",
       "Andrew                    1\n",
       "Pickard                   1\n",
       "Greenfield                1\n",
       "Barber                    1\n",
       "Kilgannon                 1\n",
       "Troutt                    1\n",
       "Sagesser                  1\n",
       "Leinonen                  1\n",
       "Ivanoff                   1\n",
       "Osen                      1\n",
       "Lulic                     1\n",
       "Harmer                    1\n",
       "van Melkebeke             1\n",
       "Hale                      1\n",
       "Molson                    1\n",
       "Bissette                  1\n",
       "Lindell                   1\n",
       "Weir                      1\n",
       "Moutal                    1\n",
       "Foreman                   1\n",
       "Turkula                   1\n",
       "Downton                   1\n",
       "Allum                     1\n",
       "Cherry                    1\n",
       "Angle                     1\n",
       "Reynaldo                  1\n",
       "Sdycoff                   1\n",
       "Burns                     1\n",
       "Douglas                   1\n",
       "Connolly                  1\n",
       "Peuchen                   1\n",
       "McMahon                   1\n",
       "Cook                      1\n",
       "Hirvonen                  1\n",
       "Dimic                     1\n",
       "Dennis                    1\n",
       "Phillips                  1\n",
       "Ridsdale                  1\n",
       "Ohman                     1\n",
       "Richard                   1\n",
       "Sutehall                  1\n",
       "de Pelsmaeker             1\n",
       "Nysveen                   1\n",
       "Anderson                  1\n",
       "Jermyn                    1\n",
       "Wells                     1\n",
       "Heininen                  1\n",
       "Roebling                  1\n",
       "Markoff                   1\n",
       "Berriman                  1\n",
       "Kraeff                    1\n",
       "Sutton                    1\n",
       "Hosono                    1\n",
       "Green                     1\n",
       "Wiseman                   1\n",
       "Lindblom                  1\n",
       "Lindqvist                 1\n",
       "Spedden                   1\n",
       "Bjornstrom-Steffansson    1\n",
       "Butt                      1\n",
       "Bateman                   1\n",
       "Healy                     1\n",
       "Potter                    1\n",
       "Maioni                    1\n",
       "Swift                     1\n",
       "Mitkoff                   1\n",
       "Bowen                     1\n",
       "Edvardsson                1\n",
       "Rekic                     1\n",
       "Slocovski                 1\n",
       "Kent                      1\n",
       "Sivic                     1\n",
       "Reeves                    1\n",
       "Beavan                    1\n",
       "Lang                      1\n",
       "Chibnall                  1\n",
       "Davidson                  1\n",
       "Ball                      1\n",
       "Balkic                    1\n",
       "Berglund                  1\n",
       "Colley                    1\n",
       "Silverthorne              1\n",
       "O'Connor                  1\n",
       "Garside                   1\n",
       "Carr                      1\n",
       "Radeff                    1\n",
       "Gronnestad                1\n",
       "Eklund                    1\n",
       "Rogers                    1\n",
       "Lemore                    1\n",
       "Mullens                   1\n",
       "Watt                      1\n",
       "Kvillner                  1\n",
       "Isham                     1\n",
       "Sundman                   1\n",
       "Lievens                   1\n",
       "Givard                    1\n",
       "Slemen                    1\n",
       "Dahl                      1\n",
       "O'Sullivan                1\n",
       "Klasen                    1\n",
       "Guggenheim                1\n",
       "Hold                      1\n",
       "Niskanen                  1\n",
       "Moraweck                  1\n",
       "Stankovic                 1\n",
       "Norman                    1\n",
       "Nankoff                   1\n",
       "Dantcheff                 1\n",
       "Mockler                   1\n",
       "Nysten                    1\n",
       "Birkeland                 1\n",
       "Bonnell                   1\n",
       "Hegarty                   1\n",
       "Madill                    1\n",
       "Seward                    1\n",
       "Chronopoulos              1\n",
       "Daniel                    1\n",
       "Soholt                    1\n",
       "Sedgwick                  1\n",
       "Peduzzi                   1\n",
       "Bengtsson                 1\n",
       "Gee                       1\n",
       "Pinsky                    1\n",
       "LeRoy                     1\n",
       "Perkin                    1\n",
       "Cairns                    1\n",
       "Clifford                  1\n",
       "Ringhini                  1\n",
       "Mangan                    1\n",
       "Johanson                  1\n",
       "Adahl                     1\n",
       "Wiklund                   1\n",
       "Cardeza                   1\n",
       "Holm                      1\n",
       "Bradley                   1\n",
       "Silven                    1\n",
       "Stoytcheff                1\n",
       "Rugg                      1\n",
       "Faunthorpe                1\n",
       "Mamee                     1\n",
       "Natsch                    1\n",
       "Cleaver                   1\n",
       "Andreasson                1\n",
       "Morrow                    1\n",
       "Dakic                     1\n",
       "Woolner                   1\n",
       "Ling                      1\n",
       "Hendekovic                1\n",
       "Walker                    1\n",
       "Heikkinen                 1\n",
       "Simmons                   1\n",
       "Clarke                    1\n",
       "Karlsson                  1\n",
       "Jarvis                    1\n",
       "Leader                    1\n",
       "Rothschild                1\n",
       "Coxon                     1\n",
       "Hampe                     1\n",
       "Brewe                     1\n",
       "Lehmann                   1\n",
       "Vande Walle               1\n",
       "Sirayanian                1\n",
       "Yousseff                  1\n",
       "Davis                     1\n",
       "Olsvigen                  1\n",
       "Chaffee                   1\n",
       "Rothes                    1\n",
       "Strandberg                1\n",
       "Ponesell                  1\n",
       "Pengelly                  1\n",
       "Mayne                     1\n",
       "Weisz                     1\n",
       "Romaine                   1\n",
       "Lesurer                   1\n",
       "Bostandyeff               1\n",
       "Francatelli               1\n",
       "Corn                      1\n",
       "Montvila                  1\n",
       "Fox                       1\n",
       "Knight                    1\n",
       "Stephenson                1\n",
       "Slayter                   1\n",
       "Pasic                     1\n",
       "Pernot                    1\n",
       "Stranden                  1\n",
       "Paulner                   1\n",
       "Spencer                   1\n",
       "Harder                    1\n",
       "Nicholls                  1\n",
       "Uruchurtu                 1\n",
       "Goncalves                 1\n",
       "Farthing                  1\n",
       "Mannion                   1\n",
       "Masselmani                1\n",
       "Robert                    1\n",
       "Lindahl                   1\n",
       "Vestrom                   1\n",
       "Widener                   1\n",
       "Nicholson                 1\n",
       "Theobald                  1\n",
       "Nirva                     1\n",
       "Giglio                    1\n",
       "Robbins                   1\n",
       "Osman                     1\n",
       "Giles                     1\n",
       "Garfirth                  1\n",
       "Carbines                  1\n",
       "Ilett                     1\n",
       "Newsom                    1\n",
       "Lester                    1\n",
       "Youseff                   1\n",
       "Icard                     1\n",
       "Fischer                   1\n",
       "Kink-Heilmann             1\n",
       "Coleridge                 1\n",
       "Lovell                    1\n",
       "Milling                   1\n",
       "Trout                     1\n",
       "Parrish                   1\n",
       "Pain                      1\n",
       "Cavendish                 1\n",
       "Hunt                      1\n",
       "Greenberg                 1\n",
       "Badt                      1\n",
       "Turja                     1\n",
       "Lewy                      1\n",
       "Hassan                    1\n",
       "Vander Cruyssen           1\n",
       "Rush                      1\n",
       "McCarthy                  1\n",
       "Turcin                    1\n",
       "Coelho                    1\n",
       "Elsbury                   1\n",
       "Longley                   1\n",
       "Long                      1\n",
       "Novel                     1\n",
       "Klaber                    1\n",
       "Kiernan                   1\n",
       "Meanwell                  1\n",
       "Harrington                1\n",
       "Emanuel                   1\n",
       "Cribb                     1\n",
       "Widegren                  1\n",
       "Caram                     1\n",
       "O'Dwyer                   1\n",
       "Hogeboom                  1\n",
       "Sharp                     1\n",
       "Gallagher                 1\n",
       "Rood                      1\n",
       "Madigan                   1\n",
       "McCormack                 1\n",
       "Chip                      1\n",
       "Dodge                     1\n",
       "Mitchell                  1\n",
       "Gale                      1\n",
       "Harrison                  1\n",
       "Dorking                   1\n",
       "Reed                      1\n",
       "McEvoy                    1\n",
       "Hodges                    1\n",
       "Levy                      1\n",
       "Sirota                    1\n",
       "Humblen                   1\n",
       "Willey                    1\n",
       "Lahoud                    1\n",
       "Banfield                  1\n",
       "Leeni                     1\n",
       "Toufik                    1\n",
       "Shutes                    1\n",
       "Kirkland                  1\n",
       "Stewart                   1\n",
       "McGowan                   1\n",
       "Watson                    1\n",
       "Moen                      1\n",
       "Gavey                     1\n",
       "Petranec                  1\n",
       "Vovk                      1\n",
       "Fleming                   1\n",
       "Partner                   1\n",
       "Gilinski                  1\n",
       "Adams                     1\n",
       "Meo                       1\n",
       "Saalfeld                  1\n",
       "Duran y More              1\n",
       "Millet                    1\n",
       "Moore                     1\n",
       "Glynn                     1\n",
       "Thomas                    1\n",
       "Barah                     1\n",
       "Shelley                   1\n",
       "Murdlin                   1\n",
       "Gill                      1\n",
       "Abbing                    1\n",
       "Frolicher                 1\n",
       "Asim                      1\n",
       "Scanlan                   1\n",
       "Pekoniemi                 1\n",
       "Cor                       1\n",
       "Keefe                     1\n",
       "Hawksford                 1\n",
       "Parkes                    1\n",
       "Lennon                    1\n",
       "Porter                    1\n",
       "Kallio                    1\n",
       "Louch                     1\n",
       "Todoroff                  1\n",
       "Canavan                   1\n",
       "Risien                    1\n",
       "Drazenoic                 1\n",
       "Astor                     1\n",
       "Bailey                    1\n",
       "Peters                    1\n",
       "Campbell                  1\n",
       "Salonen                   1\n",
       "Petterson                 1\n",
       "Sloper                    1\n",
       "Eitemiller                1\n",
       "Fry                       1\n",
       "Ekstrom                   1\n",
       "Blackwell                 1\n",
       "Fynney                    1\n",
       "Sadlier                   1\n",
       "Otter                     1\n",
       "Torber                    1\n",
       "Padro y Manent            1\n",
       "Endres                    1\n",
       "Vanden Steen              1\n",
       "Marvin                    1\n",
       "Andersen-Jensen           1\n",
       "Lundahl                   1\n",
       "Jerwan                    1\n",
       "Byles                     1\n",
       "Myhrman                   1\n",
       "O'Driscoll                1\n",
       "Mineff                    1\n",
       "Kalvik                    1\n",
       "Lurette                   1\n",
       "Gilnagh                   1\n",
       "Artagaveytia              1\n",
       "Barkworth                 1\n",
       "Kenyon                    1\n",
       "Devaney                   1\n",
       "Young                     1\n",
       "Nye                       1\n",
       "Nilsson                   1\n",
       "Bystrom                   1\n",
       "van Billiard              1\n",
       "Yrois                     1\n",
       "Bazzani                   1\n",
       "McDermott                 1\n",
       "Troupiansky               1\n",
       "Mack                      1\n",
       "Eustis                    1\n",
       "Robins                    1\n",
       "Nenkoff                   1\n",
       "Emir                      1\n",
       "Bing                      1\n",
       "Ilmakangas                1\n",
       "Salkjelsvik               1\n",
       "Haas                      1\n",
       "McGough                   1\n",
       "Smiljanic                 1\n",
       "Christy                   1\n",
       "Touma                     1\n",
       "Ross                      1\n",
       "Brocklebank               1\n",
       "Somerton                  1\n",
       "Wright                    1\n",
       "Homer                     1\n",
       "Rintamaki                 1\n",
       "Naidenoff                 1\n",
       "Baumann                   1\n",
       "de Mulder                 1\n",
       "Staneff                   1\n",
       "Ahlin                     1\n",
       "Jenkin                    1\n",
       "Ayoub                     1\n",
       "Warren                    1\n",
       "Bowerman                  1\n",
       "Stead                     1\n",
       "Leonard                   1\n",
       "Leitch                    1\n",
       "Slabenoff                 1\n",
       "Kink                      1\n",
       "Lines                     1\n",
       "Connors                   1\n",
       "Meek                      1\n",
       "Persson                   1\n",
       "Dooley                    1\n",
       "Hassab                    1\n",
       "Razi                      1\n",
       "Mionoff                   1\n",
       "Van der hoef              1\n",
       "Leyson                    1\n",
       "Wheadon                   1\n",
       "Crease                    1\n",
       "Maenpaa                   1\n",
       "Davison                   1\n",
       "McGovern                  1\n",
       "Carrau                    1\n",
       "Butler                    1\n",
       "del Carlo                 1\n",
       "Doharr                    1\n",
       "Wilhelms                  1\n",
       "Buss                      1\n",
       "Hanna                     1\n",
       "Connaghton                1\n",
       "Alhomaki                  1\n",
       "Farrell                   1\n",
       "Collander                 1\n",
       "Gaskell                   1\n",
       "Goldschmidt               1\n",
       "Fahlstrom                 1\n",
       "Landergren                1\n",
       "Lemberopolous             1\n",
       "Ibrahim Shawah            1\n",
       "Yousif                    1\n",
       "Madsen                    1\n",
       "Burke                     1\n",
       "Sjostedt                  1\n",
       "Hewlett                   1\n",
       "Sivola                    1\n",
       "Moss                      1\n",
       "Toomey                    1\n",
       "Aks                       1\n",
       "Gheorgheff                1\n",
       "Thorne                    1\n",
       "Kimball                   1\n",
       "Frolicher-Stehli          1\n",
       "Aubart                    1\n",
       "Sinkkonen                 1\n",
       "Waelens                   1\n",
       "Vande Velde               1\n",
       "O'Connell                 1\n",
       "Compton                   1\n",
       "Foo                       1\n",
       "Drew                      1\n",
       "Zimmerman                 1\n",
       "O'Leary                   1\n",
       "Jardin                    1\n",
       "Kassem                    1\n",
       "Lahtinen                  1\n",
       "Beesley                   1\n",
       "Cann                      1\n",
       "Williams-Lambert          1\n",
       "Hood                      1\n",
       "Jansson                   1\n",
       "Ryan                      1\n",
       "Plotcharsky               1\n",
       "Ostby                     1\n",
       "Karun                     1\n",
       "Johannesen-Bratthammer    1\n",
       "Bidois                    1\n",
       "Name: Surname, dtype: int64"
      ]
     },
     "execution_count": 710,
     "metadata": {},
     "output_type": "execute_result"
    }
   ],
   "source": [
    "train_data['Surname'].value_counts()"
   ]
  },
  {
   "cell_type": "code",
   "execution_count": 711,
   "metadata": {},
   "outputs": [
    {
     "data": {
      "text/plain": [
       "G6                 4\n",
       "B96 B98            4\n",
       "C23 C25 C27        4\n",
       "F33                3\n",
       "C22 C26            3\n",
       "F2                 3\n",
       "D                  3\n",
       "E101               3\n",
       "D35                2\n",
       "D20                2\n",
       "B77                2\n",
       "D26                2\n",
       "B49                2\n",
       "C52                2\n",
       "E8                 2\n",
       "B5                 2\n",
       "C123               2\n",
       "B28                2\n",
       "C78                2\n",
       "C93                2\n",
       "C124               2\n",
       "F4                 2\n",
       "E24                2\n",
       "E121               2\n",
       "B18                2\n",
       "D17                2\n",
       "C83                2\n",
       "E67                2\n",
       "C2                 2\n",
       "E44                2\n",
       "B35                2\n",
       "F G73              2\n",
       "B57 B59 B63 B66    2\n",
       "C126               2\n",
       "D33                2\n",
       "B58 B60            2\n",
       "B22                2\n",
       "C125               2\n",
       "B20                2\n",
       "C68                2\n",
       "E33                2\n",
       "C92                2\n",
       "B51 B53 B55        2\n",
       "D36                2\n",
       "E25                2\n",
       "C65                2\n",
       "T                  1\n",
       "D37                1\n",
       "B38                1\n",
       "B73                1\n",
       "C82                1\n",
       "C70                1\n",
       "C106               1\n",
       "E58                1\n",
       "E68                1\n",
       "C118               1\n",
       "B50                1\n",
       "E10                1\n",
       "D15                1\n",
       "D50                1\n",
       "E38                1\n",
       "A36                1\n",
       "E49                1\n",
       "A10                1\n",
       "F G63              1\n",
       "E63                1\n",
       "D7                 1\n",
       "A16                1\n",
       "C47                1\n",
       "A31                1\n",
       "D49                1\n",
       "C30                1\n",
       "C62 C64            1\n",
       "E36                1\n",
       "A5                 1\n",
       "B19                1\n",
       "A19                1\n",
       "B94                1\n",
       "A6                 1\n",
       "A20                1\n",
       "C90                1\n",
       "C128               1\n",
       "C7                 1\n",
       "E50                1\n",
       "E34                1\n",
       "B37                1\n",
       "D48                1\n",
       "E77                1\n",
       "A24                1\n",
       "B82 B84            1\n",
       "F E69              1\n",
       "B102               1\n",
       "D46                1\n",
       "D21                1\n",
       "C110               1\n",
       "B3                 1\n",
       "B4                 1\n",
       "E17                1\n",
       "B80                1\n",
       "B71                1\n",
       "B69                1\n",
       "D47                1\n",
       "C86                1\n",
       "C85                1\n",
       "B39                1\n",
       "C95                1\n",
       "C32                1\n",
       "D30                1\n",
       "A34                1\n",
       "E12                1\n",
       "C104               1\n",
       "C148               1\n",
       "E31                1\n",
       "E40                1\n",
       "B30                1\n",
       "B78                1\n",
       "D6                 1\n",
       "C91                1\n",
       "C50                1\n",
       "A14                1\n",
       "A23                1\n",
       "C99                1\n",
       "A26                1\n",
       "B41                1\n",
       "B42                1\n",
       "C87                1\n",
       "D11                1\n",
       "C49                1\n",
       "A32                1\n",
       "D56                1\n",
       "B101               1\n",
       "B79                1\n",
       "D10 D12            1\n",
       "C54                1\n",
       "C45                1\n",
       "B86                1\n",
       "D28                1\n",
       "A7                 1\n",
       "D45                1\n",
       "C103               1\n",
       "C111               1\n",
       "D9                 1\n",
       "E46                1\n",
       "F38                1\n",
       "D19                1\n",
       "C101               1\n",
       "C46                1\n",
       "Name: Cabin, dtype: int64"
      ]
     },
     "execution_count": 711,
     "metadata": {},
     "output_type": "execute_result"
    }
   ],
   "source": [
    "train_data['Cabin'].value_counts()"
   ]
  },
  {
   "cell_type": "code",
   "execution_count": 712,
   "metadata": {
    "execution": {
     "iopub.execute_input": "2024-12-04T19:04:24.406326Z",
     "iopub.status.busy": "2024-12-04T19:04:24.405995Z",
     "iopub.status.idle": "2024-12-04T19:04:24.424989Z",
     "shell.execute_reply": "2024-12-04T19:04:24.423835Z",
     "shell.execute_reply.started": "2024-12-04T19:04:24.406295Z"
    }
   },
   "outputs": [
    {
     "data": {
      "text/html": [
       "<div>\n",
       "<style scoped>\n",
       "    .dataframe tbody tr th:only-of-type {\n",
       "        vertical-align: middle;\n",
       "    }\n",
       "\n",
       "    .dataframe tbody tr th {\n",
       "        vertical-align: top;\n",
       "    }\n",
       "\n",
       "    .dataframe thead th {\n",
       "        text-align: right;\n",
       "    }\n",
       "</style>\n",
       "<table border=\"1\" class=\"dataframe\">\n",
       "  <thead>\n",
       "    <tr style=\"text-align: right;\">\n",
       "      <th></th>\n",
       "      <th>PassengerId</th>\n",
       "      <th>Survived</th>\n",
       "      <th>Pclass</th>\n",
       "      <th>Name</th>\n",
       "      <th>Sex</th>\n",
       "      <th>Age</th>\n",
       "      <th>SibSp</th>\n",
       "      <th>Parch</th>\n",
       "      <th>Ticket</th>\n",
       "      <th>Fare</th>\n",
       "      <th>Cabin</th>\n",
       "      <th>Embarked</th>\n",
       "      <th>Surname</th>\n",
       "    </tr>\n",
       "  </thead>\n",
       "  <tbody>\n",
       "    <tr>\n",
       "      <th>390</th>\n",
       "      <td>391</td>\n",
       "      <td>1</td>\n",
       "      <td>1</td>\n",
       "      <td>Carter, Mr. William Ernest</td>\n",
       "      <td>male</td>\n",
       "      <td>36.0</td>\n",
       "      <td>1</td>\n",
       "      <td>2</td>\n",
       "      <td>113760</td>\n",
       "      <td>120.0</td>\n",
       "      <td>B96 B98</td>\n",
       "      <td>S</td>\n",
       "      <td>Carter</td>\n",
       "    </tr>\n",
       "    <tr>\n",
       "      <th>435</th>\n",
       "      <td>436</td>\n",
       "      <td>1</td>\n",
       "      <td>1</td>\n",
       "      <td>Carter, Miss. Lucile Polk</td>\n",
       "      <td>female</td>\n",
       "      <td>14.0</td>\n",
       "      <td>1</td>\n",
       "      <td>2</td>\n",
       "      <td>113760</td>\n",
       "      <td>120.0</td>\n",
       "      <td>B96 B98</td>\n",
       "      <td>S</td>\n",
       "      <td>Carter</td>\n",
       "    </tr>\n",
       "    <tr>\n",
       "      <th>763</th>\n",
       "      <td>764</td>\n",
       "      <td>1</td>\n",
       "      <td>1</td>\n",
       "      <td>Carter, Mrs. William Ernest (Lucile Polk)</td>\n",
       "      <td>female</td>\n",
       "      <td>36.0</td>\n",
       "      <td>1</td>\n",
       "      <td>2</td>\n",
       "      <td>113760</td>\n",
       "      <td>120.0</td>\n",
       "      <td>B96 B98</td>\n",
       "      <td>S</td>\n",
       "      <td>Carter</td>\n",
       "    </tr>\n",
       "    <tr>\n",
       "      <th>802</th>\n",
       "      <td>803</td>\n",
       "      <td>1</td>\n",
       "      <td>1</td>\n",
       "      <td>Carter, Master. William Thornton II</td>\n",
       "      <td>male</td>\n",
       "      <td>11.0</td>\n",
       "      <td>1</td>\n",
       "      <td>2</td>\n",
       "      <td>113760</td>\n",
       "      <td>120.0</td>\n",
       "      <td>B96 B98</td>\n",
       "      <td>S</td>\n",
       "      <td>Carter</td>\n",
       "    </tr>\n",
       "  </tbody>\n",
       "</table>\n",
       "</div>"
      ],
      "text/plain": [
       "     PassengerId  Survived  Pclass                                       Name  \\\n",
       "390          391         1       1                 Carter, Mr. William Ernest   \n",
       "435          436         1       1                  Carter, Miss. Lucile Polk   \n",
       "763          764         1       1  Carter, Mrs. William Ernest (Lucile Polk)   \n",
       "802          803         1       1        Carter, Master. William Thornton II   \n",
       "\n",
       "        Sex   Age  SibSp  Parch  Ticket   Fare    Cabin Embarked Surname  \n",
       "390    male  36.0      1      2  113760  120.0  B96 B98        S  Carter  \n",
       "435  female  14.0      1      2  113760  120.0  B96 B98        S  Carter  \n",
       "763  female  36.0      1      2  113760  120.0  B96 B98        S  Carter  \n",
       "802    male  11.0      1      2  113760  120.0  B96 B98        S  Carter  "
      ]
     },
     "execution_count": 712,
     "metadata": {},
     "output_type": "execute_result"
    }
   ],
   "source": [
    "train_data.loc[train_data.Cabin == 'B96 B98']"
   ]
  },
  {
   "cell_type": "markdown",
   "metadata": {},
   "source": [
    "It looks like the first letter of Cabin designates the cabin section.  I'll go ahead and create a new column with just this letter."
   ]
  },
  {
   "cell_type": "code",
   "execution_count": 713,
   "metadata": {},
   "outputs": [],
   "source": [
    "train_data['CabinSection'] = train_data['Cabin'].str[0:1]"
   ]
  },
  {
   "cell_type": "code",
   "execution_count": 714,
   "metadata": {},
   "outputs": [
    {
     "data": {
      "text/html": [
       "<div>\n",
       "<style scoped>\n",
       "    .dataframe tbody tr th:only-of-type {\n",
       "        vertical-align: middle;\n",
       "    }\n",
       "\n",
       "    .dataframe tbody tr th {\n",
       "        vertical-align: top;\n",
       "    }\n",
       "\n",
       "    .dataframe thead th {\n",
       "        text-align: right;\n",
       "    }\n",
       "</style>\n",
       "<table border=\"1\" class=\"dataframe\">\n",
       "  <thead>\n",
       "    <tr style=\"text-align: right;\">\n",
       "      <th></th>\n",
       "      <th>PassengerId</th>\n",
       "      <th>Survived</th>\n",
       "      <th>Pclass</th>\n",
       "      <th>Name</th>\n",
       "      <th>Sex</th>\n",
       "      <th>Age</th>\n",
       "      <th>SibSp</th>\n",
       "      <th>Parch</th>\n",
       "      <th>Ticket</th>\n",
       "      <th>Fare</th>\n",
       "      <th>Cabin</th>\n",
       "      <th>Embarked</th>\n",
       "      <th>Surname</th>\n",
       "      <th>CabinSection</th>\n",
       "    </tr>\n",
       "  </thead>\n",
       "  <tbody>\n",
       "    <tr>\n",
       "      <th>0</th>\n",
       "      <td>1</td>\n",
       "      <td>0</td>\n",
       "      <td>3</td>\n",
       "      <td>Braund, Mr. Owen Harris</td>\n",
       "      <td>male</td>\n",
       "      <td>22.0</td>\n",
       "      <td>1</td>\n",
       "      <td>0</td>\n",
       "      <td>A/5 21171</td>\n",
       "      <td>7.2500</td>\n",
       "      <td>NaN</td>\n",
       "      <td>S</td>\n",
       "      <td>Braund</td>\n",
       "      <td>NaN</td>\n",
       "    </tr>\n",
       "    <tr>\n",
       "      <th>1</th>\n",
       "      <td>2</td>\n",
       "      <td>1</td>\n",
       "      <td>1</td>\n",
       "      <td>Cumings, Mrs. John Bradley (Florence Briggs Th...</td>\n",
       "      <td>female</td>\n",
       "      <td>38.0</td>\n",
       "      <td>1</td>\n",
       "      <td>0</td>\n",
       "      <td>PC 17599</td>\n",
       "      <td>71.2833</td>\n",
       "      <td>C85</td>\n",
       "      <td>C</td>\n",
       "      <td>Cumings</td>\n",
       "      <td>C</td>\n",
       "    </tr>\n",
       "    <tr>\n",
       "      <th>2</th>\n",
       "      <td>3</td>\n",
       "      <td>1</td>\n",
       "      <td>3</td>\n",
       "      <td>Heikkinen, Miss. Laina</td>\n",
       "      <td>female</td>\n",
       "      <td>26.0</td>\n",
       "      <td>0</td>\n",
       "      <td>0</td>\n",
       "      <td>STON/O2. 3101282</td>\n",
       "      <td>7.9250</td>\n",
       "      <td>NaN</td>\n",
       "      <td>S</td>\n",
       "      <td>Heikkinen</td>\n",
       "      <td>NaN</td>\n",
       "    </tr>\n",
       "    <tr>\n",
       "      <th>3</th>\n",
       "      <td>4</td>\n",
       "      <td>1</td>\n",
       "      <td>1</td>\n",
       "      <td>Futrelle, Mrs. Jacques Heath (Lily May Peel)</td>\n",
       "      <td>female</td>\n",
       "      <td>35.0</td>\n",
       "      <td>1</td>\n",
       "      <td>0</td>\n",
       "      <td>113803</td>\n",
       "      <td>53.1000</td>\n",
       "      <td>C123</td>\n",
       "      <td>S</td>\n",
       "      <td>Futrelle</td>\n",
       "      <td>C</td>\n",
       "    </tr>\n",
       "    <tr>\n",
       "      <th>4</th>\n",
       "      <td>5</td>\n",
       "      <td>0</td>\n",
       "      <td>3</td>\n",
       "      <td>Allen, Mr. William Henry</td>\n",
       "      <td>male</td>\n",
       "      <td>35.0</td>\n",
       "      <td>0</td>\n",
       "      <td>0</td>\n",
       "      <td>373450</td>\n",
       "      <td>8.0500</td>\n",
       "      <td>NaN</td>\n",
       "      <td>S</td>\n",
       "      <td>Allen</td>\n",
       "      <td>NaN</td>\n",
       "    </tr>\n",
       "  </tbody>\n",
       "</table>\n",
       "</div>"
      ],
      "text/plain": [
       "   PassengerId  Survived  Pclass  \\\n",
       "0            1         0       3   \n",
       "1            2         1       1   \n",
       "2            3         1       3   \n",
       "3            4         1       1   \n",
       "4            5         0       3   \n",
       "\n",
       "                                                Name     Sex   Age  SibSp  \\\n",
       "0                            Braund, Mr. Owen Harris    male  22.0      1   \n",
       "1  Cumings, Mrs. John Bradley (Florence Briggs Th...  female  38.0      1   \n",
       "2                             Heikkinen, Miss. Laina  female  26.0      0   \n",
       "3       Futrelle, Mrs. Jacques Heath (Lily May Peel)  female  35.0      1   \n",
       "4                           Allen, Mr. William Henry    male  35.0      0   \n",
       "\n",
       "   Parch            Ticket     Fare Cabin Embarked    Surname CabinSection  \n",
       "0      0         A/5 21171   7.2500   NaN        S     Braund          NaN  \n",
       "1      0          PC 17599  71.2833   C85        C    Cumings            C  \n",
       "2      0  STON/O2. 3101282   7.9250   NaN        S  Heikkinen          NaN  \n",
       "3      0            113803  53.1000  C123        S   Futrelle            C  \n",
       "4      0            373450   8.0500   NaN        S      Allen          NaN  "
      ]
     },
     "execution_count": 714,
     "metadata": {},
     "output_type": "execute_result"
    }
   ],
   "source": [
    "train_data.head()"
   ]
  },
  {
   "cell_type": "code",
   "execution_count": 715,
   "metadata": {},
   "outputs": [
    {
     "data": {
      "text/plain": [
       "C    59\n",
       "B    47\n",
       "D    33\n",
       "E    32\n",
       "A    15\n",
       "F    13\n",
       "G     4\n",
       "T     1\n",
       "Name: CabinSection, dtype: int64"
      ]
     },
     "execution_count": 715,
     "metadata": {},
     "output_type": "execute_result"
    }
   ],
   "source": [
    "train_data['CabinSection'].value_counts()"
   ]
  },
  {
   "cell_type": "code",
   "execution_count": 716,
   "metadata": {},
   "outputs": [
    {
     "data": {
      "text/plain": [
       "Text(0.5, 1.0, 'Survival by CabinSection')"
      ]
     },
     "execution_count": 716,
     "metadata": {},
     "output_type": "execute_result"
    },
    {
     "data": {
      "image/png": "[encoded data removed]",
      "text/plain": [
       "<Figure size 432x288 with 1 Axes>"
      ]
     },
     "metadata": {
      "needs_background": "light"
     },
     "output_type": "display_data"
    }
   ],
   "source": [
    "sns.countplot(data=train_data, x=\"CabinSection\", hue=\"Survived\")\n",
    "plt.title(\"Survival by CabinSection\")"
   ]
  },
  {
   "cell_type": "markdown",
   "metadata": {},
   "source": [
    "In my initial look at survivability by cabin section, nearly all sections had more survivors than people who died.  Even passengers in cabin sections G and A had a fair chance at survivability.  But on further examination, there are 687 missing values for CabinSection, the vast majority of entries in the data set.  We should look at survivability for those sections that were unknown, which I relabel to U."
   ]
  },
  {
   "cell_type": "code",
   "execution_count": 717,
   "metadata": {},
   "outputs": [],
   "source": [
    "#train_data['CabinSection'] = train_data['CabinSection'].fillna('U')"
   ]
  },
  {
   "cell_type": "code",
   "execution_count": 718,
   "metadata": {},
   "outputs": [],
   "source": [
    "#train_data['CabinSection'].value_counts()"
   ]
  },
  {
   "cell_type": "code",
   "execution_count": 719,
   "metadata": {},
   "outputs": [],
   "source": [
    "#sns.countplot(data=train_data, x=\"CabinSection\", hue=\"Survived\")\n",
    "#plt.title(\"Survival by CabinSection\")"
   ]
  },
  {
   "cell_type": "markdown",
   "metadata": {},
   "source": [
    "The passengers of unknown CabinSection provenance (which I labeled 'U') had poor survivability.  I wonder why that is?  But for modeling purposes, I will experiment with keeping the missing CabinSection entries as labeled as U."
   ]
  },
  {
   "cell_type": "code",
   "execution_count": 720,
   "metadata": {
    "execution": {
     "iopub.execute_input": "2024-12-04T19:04:24.426850Z",
     "iopub.status.busy": "2024-12-04T19:04:24.426398Z",
     "iopub.status.idle": "2024-12-04T19:04:24.438070Z",
     "shell.execute_reply": "2024-12-04T19:04:24.437150Z",
     "shell.execute_reply.started": "2024-12-04T19:04:24.426802Z"
    }
   },
   "outputs": [],
   "source": [
    "s = train_data['Survived'].value_counts(dropna=False)"
   ]
  },
  {
   "cell_type": "code",
   "execution_count": 721,
   "metadata": {},
   "outputs": [
    {
     "data": {
      "text/plain": [
       "0    549\n",
       "1    342\n",
       "Name: Survived, dtype: int64"
      ]
     },
     "execution_count": 721,
     "metadata": {},
     "output_type": "execute_result"
    }
   ],
   "source": [
    "s"
   ]
  },
  {
   "cell_type": "code",
   "execution_count": 722,
   "metadata": {},
   "outputs": [
    {
     "data": {
      "text/plain": [
       "Text(0.5, 1.0, 'Survival breakdown')"
      ]
     },
     "execution_count": 722,
     "metadata": {},
     "output_type": "execute_result"
    },
    {
     "data": {
      "image/png": "[encoded data removed]",
      "text/plain": [
       "<Figure size 432x288 with 1 Axes>"
      ]
     },
     "metadata": {},
     "output_type": "display_data"
    }
   ],
   "source": [
    "fig, ax = plt.subplots()\n",
    "ax.pie(s, labels=['Perished', 'Survived'])\n",
    "plt.title(\"Survival breakdown\")"
   ]
  },
  {
   "cell_type": "code",
   "execution_count": 723,
   "metadata": {
    "execution": {
     "iopub.execute_input": "2024-12-04T19:04:24.441691Z",
     "iopub.status.busy": "2024-12-04T19:04:24.440964Z",
     "iopub.status.idle": "2024-12-04T19:04:24.451457Z",
     "shell.execute_reply": "2024-12-04T19:04:24.450482Z",
     "shell.execute_reply.started": "2024-12-04T19:04:24.441657Z"
    }
   },
   "outputs": [
    {
     "data": {
      "text/plain": [
       "0    0.616162\n",
       "1    0.383838\n",
       "Name: Survived, dtype: float64"
      ]
     },
     "execution_count": 723,
     "metadata": {},
     "output_type": "execute_result"
    }
   ],
   "source": [
    "train_data['Survived'].value_counts(normalize = True)"
   ]
  },
  {
   "cell_type": "code",
   "execution_count": 724,
   "metadata": {
    "execution": {
     "iopub.execute_input": "2024-12-04T19:04:24.452978Z",
     "iopub.status.busy": "2024-12-04T19:04:24.452649Z",
     "iopub.status.idle": "2024-12-04T19:04:24.464692Z",
     "shell.execute_reply": "2024-12-04T19:04:24.463621Z",
     "shell.execute_reply.started": "2024-12-04T19:04:24.452923Z"
    }
   },
   "outputs": [
    {
     "data": {
      "text/plain": [
       "681"
      ]
     },
     "execution_count": 724,
     "metadata": {},
     "output_type": "execute_result"
    }
   ],
   "source": [
    "len(train_data['Ticket'].unique())"
   ]
  },
  {
   "cell_type": "code",
   "execution_count": 725,
   "metadata": {
    "execution": {
     "iopub.execute_input": "2024-12-04T19:04:24.466186Z",
     "iopub.status.busy": "2024-12-04T19:04:24.465821Z",
     "iopub.status.idle": "2024-12-04T19:04:24.608959Z",
     "shell.execute_reply": "2024-12-04T19:04:24.607988Z",
     "shell.execute_reply.started": "2024-12-04T19:04:24.466153Z"
    }
   },
   "outputs": [
    {
     "data": {
      "image/png": "[encoded data removed]",
      "text/plain": [
       "<Figure size 720x144 with 1 Axes>"
      ]
     },
     "metadata": {
      "needs_background": "light"
     },
     "output_type": "display_data"
    }
   ],
   "source": [
    "plt.figure(figsize=(10,2))\n",
    "sns.boxplot(x=train_data['Fare'], fliersize=1)\n",
    "plt.title('Fare box plot');"
   ]
  },
  {
   "cell_type": "markdown",
   "metadata": {},
   "source": [
    "Fares above 65 or so are considered outliers."
   ]
  },
  {
   "cell_type": "code",
   "execution_count": 726,
   "metadata": {
    "execution": {
     "iopub.execute_input": "2024-12-04T19:04:24.610654Z",
     "iopub.status.busy": "2024-12-04T19:04:24.610197Z",
     "iopub.status.idle": "2024-12-04T19:04:24.768493Z",
     "shell.execute_reply": "2024-12-04T19:04:24.767576Z",
     "shell.execute_reply.started": "2024-12-04T19:04:24.610608Z"
    }
   },
   "outputs": [
    {
     "data": {
      "image/png": "[encoded data removed]",
      "text/plain": [
       "<Figure size 720x144 with 1 Axes>"
      ]
     },
     "metadata": {
      "needs_background": "light"
     },
     "output_type": "display_data"
    }
   ],
   "source": [
    "plt.figure(figsize=(10,2))\n",
    "sns.boxplot(x=train_data['Age'], fliersize=1)\n",
    "plt.title('Age box plot');"
   ]
  },
  {
   "cell_type": "markdown",
   "metadata": {},
   "source": [
    "Above around 64 years old are where the outliers are."
   ]
  },
  {
   "cell_type": "code",
   "execution_count": 727,
   "metadata": {},
   "outputs": [
    {
     "data": {
      "text/plain": [
       "<AxesSubplot:xlabel='Pclass', ylabel='Count'>"
      ]
     },
     "execution_count": 727,
     "metadata": {},
     "output_type": "execute_result"
    },
    {
     "data": {
      "image/png": "[encoded data removed]",
      "text/plain": [
       "<Figure size 432x288 with 1 Axes>"
      ]
     },
     "metadata": {
      "needs_background": "light"
     },
     "output_type": "display_data"
    }
   ],
   "source": [
    "sns.histplot(train_data, x=\"Pclass\")"
   ]
  },
  {
   "cell_type": "code",
   "execution_count": 728,
   "metadata": {},
   "outputs": [],
   "source": [
    "s = train_data['Pclass'].value_counts()"
   ]
  },
  {
   "cell_type": "code",
   "execution_count": 729,
   "metadata": {},
   "outputs": [
    {
     "data": {
      "text/plain": [
       "3    491\n",
       "1    216\n",
       "2    184\n",
       "Name: Pclass, dtype: int64"
      ]
     },
     "execution_count": 729,
     "metadata": {},
     "output_type": "execute_result"
    }
   ],
   "source": [
    "s"
   ]
  },
  {
   "cell_type": "code",
   "execution_count": 730,
   "metadata": {},
   "outputs": [
    {
     "data": {
      "text/plain": [
       "pandas.core.series.Series"
      ]
     },
     "execution_count": 730,
     "metadata": {},
     "output_type": "execute_result"
    }
   ],
   "source": [
    "type(s)"
   ]
  },
  {
   "cell_type": "code",
   "execution_count": 731,
   "metadata": {},
   "outputs": [
    {
     "data": {
      "text/plain": [
       "Text(0.5, 1.0, 'Class breakdown')"
      ]
     },
     "execution_count": 731,
     "metadata": {},
     "output_type": "execute_result"
    },
    {
     "data": {
      "image/png": "[encoded data removed]",
      "text/plain": [
       "<Figure size 432x288 with 1 Axes>"
      ]
     },
     "metadata": {},
     "output_type": "display_data"
    }
   ],
   "source": [
    "fig, ax = plt.subplots()\n",
    "ax.pie(s, labels=['low', 'high', 'middle'])\n",
    "plt.title(\"Class breakdown\")"
   ]
  },
  {
   "cell_type": "code",
   "execution_count": 732,
   "metadata": {
    "execution": {
     "iopub.execute_input": "2024-12-04T19:11:12.190458Z",
     "iopub.status.busy": "2024-12-04T19:11:12.189558Z",
     "iopub.status.idle": "2024-12-04T19:11:12.669499Z",
     "shell.execute_reply": "2024-12-04T19:11:12.668405Z",
     "shell.execute_reply.started": "2024-12-04T19:11:12.190416Z"
    }
   },
   "outputs": [
    {
     "data": {
      "text/plain": [
       "Text(0.5, 1.0, 'Survival by Class')"
      ]
     },
     "execution_count": 732,
     "metadata": {},
     "output_type": "execute_result"
    },
    {
     "data": {
      "image/png": "[encoded data removed]",
      "text/plain": [
       "<Figure size 432x288 with 1 Axes>"
      ]
     },
     "metadata": {
      "needs_background": "light"
     },
     "output_type": "display_data"
    }
   ],
   "source": [
    "sns.countplot(data=train_data, x=\"Pclass\", hue=\"Survived\")\n",
    "plt.title(\"Survival by Class\")"
   ]
  },
  {
   "cell_type": "markdown",
   "metadata": {},
   "source": [
    "Passengers in 1st class had the highest probability of surviving.  Passengers in 3rd class had the poorest survival rates.  Passengers in 2nd class were in the middle.  The higher your class was on the ship, the higher your survivability.  "
   ]
  },
  {
   "cell_type": "code",
   "execution_count": 733,
   "metadata": {
    "execution": {
     "iopub.execute_input": "2024-12-04T19:04:25.115636Z",
     "iopub.status.busy": "2024-12-04T19:04:25.115242Z",
     "iopub.status.idle": "2024-12-04T19:04:25.120611Z",
     "shell.execute_reply": "2024-12-04T19:04:25.119347Z",
     "shell.execute_reply.started": "2024-12-04T19:04:25.115600Z"
    }
   },
   "outputs": [],
   "source": [
    "#train_data[train_data['Pclass'] == 3]['Survived'].value_counts(dropna = False)"
   ]
  },
  {
   "cell_type": "code",
   "execution_count": 734,
   "metadata": {
    "execution": {
     "iopub.execute_input": "2024-12-04T19:04:25.124602Z",
     "iopub.status.busy": "2024-12-04T19:04:25.124187Z",
     "iopub.status.idle": "2024-12-04T19:04:25.294107Z",
     "shell.execute_reply": "2024-12-04T19:04:25.293029Z",
     "shell.execute_reply.started": "2024-12-04T19:04:25.124565Z"
    }
   },
   "outputs": [
    {
     "data": {
      "text/plain": [
       "Text(0.5, 1.0, 'Number of males and females')"
      ]
     },
     "execution_count": 734,
     "metadata": {},
     "output_type": "execute_result"
    },
    {
     "data": {
      "image/png": "[encoded data removed]",
      "text/plain": [
       "<Figure size 432x288 with 1 Axes>"
      ]
     },
     "metadata": {
      "needs_background": "light"
     },
     "output_type": "display_data"
    }
   ],
   "source": [
    "sns.histplot(train_data, x=\"Sex\")\n",
    "plt.title(\"Number of males and females\")"
   ]
  },
  {
   "cell_type": "code",
   "execution_count": 735,
   "metadata": {},
   "outputs": [],
   "source": [
    "s = train_data[\"Sex\"].value_counts()"
   ]
  },
  {
   "cell_type": "code",
   "execution_count": 736,
   "metadata": {},
   "outputs": [
    {
     "data": {
      "text/plain": [
       "male      577\n",
       "female    314\n",
       "Name: Sex, dtype: int64"
      ]
     },
     "execution_count": 736,
     "metadata": {},
     "output_type": "execute_result"
    }
   ],
   "source": [
    "s"
   ]
  },
  {
   "cell_type": "code",
   "execution_count": 737,
   "metadata": {},
   "outputs": [
    {
     "data": {
      "text/plain": [
       "Text(0.5, 1.0, 'Sex breakdown')"
      ]
     },
     "execution_count": 737,
     "metadata": {},
     "output_type": "execute_result"
    },
    {
     "data": {
      "image/png": "[encoded data removed]",
      "text/plain": [
       "<Figure size 432x288 with 1 Axes>"
      ]
     },
     "metadata": {},
     "output_type": "display_data"
    }
   ],
   "source": [
    "fig, ax = plt.subplots()\n",
    "ax.pie(s, labels=['Male', 'Female'])\n",
    "plt.title(\"Sex breakdown\")"
   ]
  },
  {
   "cell_type": "code",
   "execution_count": 738,
   "metadata": {},
   "outputs": [
    {
     "data": {
      "text/plain": [
       "Text(0.5, 1.0, 'Survival by Sex')"
      ]
     },
     "execution_count": 738,
     "metadata": {},
     "output_type": "execute_result"
    },
    {
     "data": {
      "image/png": "[encoded data removed]",
      "text/plain": [
       "<Figure size 432x288 with 1 Axes>"
      ]
     },
     "metadata": {
      "needs_background": "light"
     },
     "output_type": "display_data"
    }
   ],
   "source": [
    "sns.countplot(data=train_data, x=\"Sex\", hue=\"Survived\")\n",
    "plt.title(\"Survival by Sex\")"
   ]
  },
  {
   "cell_type": "markdown",
   "metadata": {},
   "source": [
    "Females had a much higher probability of surviving than males.  "
   ]
  },
  {
   "cell_type": "code",
   "execution_count": 739,
   "metadata": {},
   "outputs": [
    {
     "data": {
      "text/html": [
       "<div>\n",
       "<style scoped>\n",
       "    .dataframe tbody tr th:only-of-type {\n",
       "        vertical-align: middle;\n",
       "    }\n",
       "\n",
       "    .dataframe tbody tr th {\n",
       "        vertical-align: top;\n",
       "    }\n",
       "\n",
       "    .dataframe thead th {\n",
       "        text-align: right;\n",
       "    }\n",
       "</style>\n",
       "<table border=\"1\" class=\"dataframe\">\n",
       "  <thead>\n",
       "    <tr style=\"text-align: right;\">\n",
       "      <th></th>\n",
       "      <th>PassengerId</th>\n",
       "      <th>Survived</th>\n",
       "      <th>Pclass</th>\n",
       "      <th>Name</th>\n",
       "      <th>Sex</th>\n",
       "      <th>Age</th>\n",
       "      <th>SibSp</th>\n",
       "      <th>Parch</th>\n",
       "      <th>Ticket</th>\n",
       "      <th>Fare</th>\n",
       "      <th>Cabin</th>\n",
       "      <th>Embarked</th>\n",
       "      <th>Surname</th>\n",
       "      <th>CabinSection</th>\n",
       "    </tr>\n",
       "  </thead>\n",
       "  <tbody>\n",
       "    <tr>\n",
       "      <th>0</th>\n",
       "      <td>1</td>\n",
       "      <td>0</td>\n",
       "      <td>3</td>\n",
       "      <td>Braund, Mr. Owen Harris</td>\n",
       "      <td>male</td>\n",
       "      <td>22.0</td>\n",
       "      <td>1</td>\n",
       "      <td>0</td>\n",
       "      <td>A/5 21171</td>\n",
       "      <td>7.2500</td>\n",
       "      <td>NaN</td>\n",
       "      <td>S</td>\n",
       "      <td>Braund</td>\n",
       "      <td>NaN</td>\n",
       "    </tr>\n",
       "    <tr>\n",
       "      <th>1</th>\n",
       "      <td>2</td>\n",
       "      <td>1</td>\n",
       "      <td>1</td>\n",
       "      <td>Cumings, Mrs. John Bradley (Florence Briggs Th...</td>\n",
       "      <td>female</td>\n",
       "      <td>38.0</td>\n",
       "      <td>1</td>\n",
       "      <td>0</td>\n",
       "      <td>PC 17599</td>\n",
       "      <td>71.2833</td>\n",
       "      <td>C85</td>\n",
       "      <td>C</td>\n",
       "      <td>Cumings</td>\n",
       "      <td>C</td>\n",
       "    </tr>\n",
       "    <tr>\n",
       "      <th>2</th>\n",
       "      <td>3</td>\n",
       "      <td>1</td>\n",
       "      <td>3</td>\n",
       "      <td>Heikkinen, Miss. Laina</td>\n",
       "      <td>female</td>\n",
       "      <td>26.0</td>\n",
       "      <td>0</td>\n",
       "      <td>0</td>\n",
       "      <td>STON/O2. 3101282</td>\n",
       "      <td>7.9250</td>\n",
       "      <td>NaN</td>\n",
       "      <td>S</td>\n",
       "      <td>Heikkinen</td>\n",
       "      <td>NaN</td>\n",
       "    </tr>\n",
       "    <tr>\n",
       "      <th>3</th>\n",
       "      <td>4</td>\n",
       "      <td>1</td>\n",
       "      <td>1</td>\n",
       "      <td>Futrelle, Mrs. Jacques Heath (Lily May Peel)</td>\n",
       "      <td>female</td>\n",
       "      <td>35.0</td>\n",
       "      <td>1</td>\n",
       "      <td>0</td>\n",
       "      <td>113803</td>\n",
       "      <td>53.1000</td>\n",
       "      <td>C123</td>\n",
       "      <td>S</td>\n",
       "      <td>Futrelle</td>\n",
       "      <td>C</td>\n",
       "    </tr>\n",
       "    <tr>\n",
       "      <th>4</th>\n",
       "      <td>5</td>\n",
       "      <td>0</td>\n",
       "      <td>3</td>\n",
       "      <td>Allen, Mr. William Henry</td>\n",
       "      <td>male</td>\n",
       "      <td>35.0</td>\n",
       "      <td>0</td>\n",
       "      <td>0</td>\n",
       "      <td>373450</td>\n",
       "      <td>8.0500</td>\n",
       "      <td>NaN</td>\n",
       "      <td>S</td>\n",
       "      <td>Allen</td>\n",
       "      <td>NaN</td>\n",
       "    </tr>\n",
       "  </tbody>\n",
       "</table>\n",
       "</div>"
      ],
      "text/plain": [
       "   PassengerId  Survived  Pclass  \\\n",
       "0            1         0       3   \n",
       "1            2         1       1   \n",
       "2            3         1       3   \n",
       "3            4         1       1   \n",
       "4            5         0       3   \n",
       "\n",
       "                                                Name     Sex   Age  SibSp  \\\n",
       "0                            Braund, Mr. Owen Harris    male  22.0      1   \n",
       "1  Cumings, Mrs. John Bradley (Florence Briggs Th...  female  38.0      1   \n",
       "2                             Heikkinen, Miss. Laina  female  26.0      0   \n",
       "3       Futrelle, Mrs. Jacques Heath (Lily May Peel)  female  35.0      1   \n",
       "4                           Allen, Mr. William Henry    male  35.0      0   \n",
       "\n",
       "   Parch            Ticket     Fare Cabin Embarked    Surname CabinSection  \n",
       "0      0         A/5 21171   7.2500   NaN        S     Braund          NaN  \n",
       "1      0          PC 17599  71.2833   C85        C    Cumings            C  \n",
       "2      0  STON/O2. 3101282   7.9250   NaN        S  Heikkinen          NaN  \n",
       "3      0            113803  53.1000  C123        S   Futrelle            C  \n",
       "4      0            373450   8.0500   NaN        S      Allen          NaN  "
      ]
     },
     "execution_count": 739,
     "metadata": {},
     "output_type": "execute_result"
    }
   ],
   "source": [
    "train_data.head()"
   ]
  },
  {
   "cell_type": "code",
   "execution_count": 740,
   "metadata": {},
   "outputs": [
    {
     "data": {
      "text/plain": [
       "Text(0.5, 1.0, 'Survival by Port of Embarkation')"
      ]
     },
     "execution_count": 740,
     "metadata": {},
     "output_type": "execute_result"
    },
    {
     "data": {
      "image/png": "[encoded data removed]",
      "text/plain": [
       "<Figure size 432x288 with 1 Axes>"
      ]
     },
     "metadata": {
      "needs_background": "light"
     },
     "output_type": "display_data"
    }
   ],
   "source": [
    "sns.countplot(data = train_data, x=\"Embarked\", hue=\"Survived\")\n",
    "plt.title(\"Survival by Port of Embarkation\")"
   ]
  },
  {
   "cell_type": "markdown",
   "metadata": {},
   "source": [
    "Passengers that embarked from C (Cherbourg) had the best chance of surviving.  Passengers that embarked from S (Southampton) had the worst chance of surviving.  Passengers that embarked from Q (Queenstown) were inbetween."
   ]
  },
  {
   "cell_type": "code",
   "execution_count": 741,
   "metadata": {
    "execution": {
     "iopub.execute_input": "2024-12-04T19:04:25.295708Z",
     "iopub.status.busy": "2024-12-04T19:04:25.295285Z",
     "iopub.status.idle": "2024-12-04T19:04:25.510957Z",
     "shell.execute_reply": "2024-12-04T19:04:25.509801Z",
     "shell.execute_reply.started": "2024-12-04T19:04:25.295662Z"
    }
   },
   "outputs": [
    {
     "data": {
      "text/plain": [
       "Text(0.5, 1.0, 'Port of Embarkation')"
      ]
     },
     "execution_count": 741,
     "metadata": {},
     "output_type": "execute_result"
    },
    {
     "data": {
      "image/png": "[encoded data removed]",
      "text/plain": [
       "<Figure size 432x288 with 1 Axes>"
      ]
     },
     "metadata": {
      "needs_background": "light"
     },
     "output_type": "display_data"
    }
   ],
   "source": [
    "sns.countplot(data = train_data, x=\"Embarked\")\n",
    "plt.title(\"Port of Embarkation\")"
   ]
  },
  {
   "cell_type": "code",
   "execution_count": 742,
   "metadata": {},
   "outputs": [],
   "source": [
    "s = train_data['Embarked'].value_counts()"
   ]
  },
  {
   "cell_type": "code",
   "execution_count": 743,
   "metadata": {},
   "outputs": [
    {
     "data": {
      "text/plain": [
       "Text(0.5, 1.0, 'Port of Embarkation')"
      ]
     },
     "execution_count": 743,
     "metadata": {},
     "output_type": "execute_result"
    },
    {
     "data": {
      "image/png": "[encoded data removed]",
      "text/plain": [
       "<Figure size 432x288 with 1 Axes>"
      ]
     },
     "metadata": {},
     "output_type": "display_data"
    }
   ],
   "source": [
    "fig, ax = plt.subplots()\n",
    "ax.pie(s, labels=['Southampton', 'Cherbourg', 'Queenstown'])\n",
    "plt.title(\"Port of Embarkation\")"
   ]
  },
  {
   "cell_type": "code",
   "execution_count": 744,
   "metadata": {},
   "outputs": [
    {
     "data": {
      "text/plain": [
       "Text(0.5, 1.0, 'Class breakdown by Port of Embarkation')"
      ]
     },
     "execution_count": 744,
     "metadata": {},
     "output_type": "execute_result"
    },
    {
     "data": {
      "image/png": "[encoded data removed]",
      "text/plain": [
       "<Figure size 432x288 with 1 Axes>"
      ]
     },
     "metadata": {
      "needs_background": "light"
     },
     "output_type": "display_data"
    }
   ],
   "source": [
    "sns.countplot(data = train_data, x=\"Embarked\", hue=\"Pclass\")\n",
    "plt.title(\"Class breakdown by Port of Embarkation\")"
   ]
  },
  {
   "cell_type": "markdown",
   "metadata": {},
   "source": [
    "C (Cherbourg) had the highest proportion of 1st class passengers.  Southampton had the highest proportion of 3rd class passengers.  "
   ]
  },
  {
   "cell_type": "markdown",
   "metadata": {},
   "source": [
    "There are 2 null values in the Embarked column.  I'll change these values to \"U\"."
   ]
  },
  {
   "cell_type": "code",
   "execution_count": 745,
   "metadata": {},
   "outputs": [],
   "source": [
    "train_data['Embarked'] = train_data['Embarked'].fillna('U')"
   ]
  },
  {
   "cell_type": "markdown",
   "metadata": {},
   "source": [
    "The two passengers who Embarked from unknown provenance both Survived.  They paid the same Fare, had the same Ticket number, and shared the same Cabin.  Both were female, and were not related."
   ]
  },
  {
   "cell_type": "code",
   "execution_count": 746,
   "metadata": {},
   "outputs": [
    {
     "data": {
      "text/html": [
       "<div>\n",
       "<style scoped>\n",
       "    .dataframe tbody tr th:only-of-type {\n",
       "        vertical-align: middle;\n",
       "    }\n",
       "\n",
       "    .dataframe tbody tr th {\n",
       "        vertical-align: top;\n",
       "    }\n",
       "\n",
       "    .dataframe thead th {\n",
       "        text-align: right;\n",
       "    }\n",
       "</style>\n",
       "<table border=\"1\" class=\"dataframe\">\n",
       "  <thead>\n",
       "    <tr style=\"text-align: right;\">\n",
       "      <th></th>\n",
       "      <th>PassengerId</th>\n",
       "      <th>Survived</th>\n",
       "      <th>Pclass</th>\n",
       "      <th>Name</th>\n",
       "      <th>Sex</th>\n",
       "      <th>Age</th>\n",
       "      <th>SibSp</th>\n",
       "      <th>Parch</th>\n",
       "      <th>Ticket</th>\n",
       "      <th>Fare</th>\n",
       "      <th>Cabin</th>\n",
       "      <th>Embarked</th>\n",
       "      <th>Surname</th>\n",
       "      <th>CabinSection</th>\n",
       "    </tr>\n",
       "  </thead>\n",
       "  <tbody>\n",
       "    <tr>\n",
       "      <th>61</th>\n",
       "      <td>62</td>\n",
       "      <td>1</td>\n",
       "      <td>1</td>\n",
       "      <td>Icard, Miss. Amelie</td>\n",
       "      <td>female</td>\n",
       "      <td>38.0</td>\n",
       "      <td>0</td>\n",
       "      <td>0</td>\n",
       "      <td>113572</td>\n",
       "      <td>80.0</td>\n",
       "      <td>B28</td>\n",
       "      <td>U</td>\n",
       "      <td>Icard</td>\n",
       "      <td>B</td>\n",
       "    </tr>\n",
       "    <tr>\n",
       "      <th>829</th>\n",
       "      <td>830</td>\n",
       "      <td>1</td>\n",
       "      <td>1</td>\n",
       "      <td>Stone, Mrs. George Nelson (Martha Evelyn)</td>\n",
       "      <td>female</td>\n",
       "      <td>62.0</td>\n",
       "      <td>0</td>\n",
       "      <td>0</td>\n",
       "      <td>113572</td>\n",
       "      <td>80.0</td>\n",
       "      <td>B28</td>\n",
       "      <td>U</td>\n",
       "      <td>Stone</td>\n",
       "      <td>B</td>\n",
       "    </tr>\n",
       "  </tbody>\n",
       "</table>\n",
       "</div>"
      ],
      "text/plain": [
       "     PassengerId  Survived  Pclass                                       Name  \\\n",
       "61            62         1       1                        Icard, Miss. Amelie   \n",
       "829          830         1       1  Stone, Mrs. George Nelson (Martha Evelyn)   \n",
       "\n",
       "        Sex   Age  SibSp  Parch  Ticket  Fare Cabin Embarked Surname  \\\n",
       "61   female  38.0      0      0  113572  80.0   B28        U   Icard   \n",
       "829  female  62.0      0      0  113572  80.0   B28        U   Stone   \n",
       "\n",
       "    CabinSection  \n",
       "61             B  \n",
       "829            B  "
      ]
     },
     "execution_count": 746,
     "metadata": {},
     "output_type": "execute_result"
    }
   ],
   "source": [
    "train_data[train_data['Embarked'] == 'U']"
   ]
  },
  {
   "cell_type": "code",
   "execution_count": 747,
   "metadata": {},
   "outputs": [
    {
     "data": {
      "text/plain": [
       "PassengerId       0\n",
       "Survived          0\n",
       "Pclass            0\n",
       "Name              0\n",
       "Sex               0\n",
       "Age             177\n",
       "SibSp             0\n",
       "Parch             0\n",
       "Ticket            0\n",
       "Fare              0\n",
       "Cabin           687\n",
       "Embarked          0\n",
       "Surname           0\n",
       "CabinSection    687\n",
       "dtype: int64"
      ]
     },
     "execution_count": 747,
     "metadata": {},
     "output_type": "execute_result"
    }
   ],
   "source": [
    "train_data.isnull().sum()"
   ]
  },
  {
   "cell_type": "code",
   "execution_count": 748,
   "metadata": {},
   "outputs": [
    {
     "data": {
      "text/plain": [
       "Text(0.5, 1.0, 'Survival by Fare')"
      ]
     },
     "execution_count": 748,
     "metadata": {},
     "output_type": "execute_result"
    },
    {
     "data": {
      "image/png": "[encoded data removed]",
      "text/plain": [
       "<Figure size 432x288 with 1 Axes>"
      ]
     },
     "metadata": {
      "needs_background": "light"
     },
     "output_type": "display_data"
    }
   ],
   "source": [
    "sns.scatterplot(data=train_data, x=\"Fare\", y=\"Survived\")\n",
    "plt.title(\"Survival by Fare\")"
   ]
  },
  {
   "cell_type": "code",
   "execution_count": 749,
   "metadata": {},
   "outputs": [
    {
     "data": {
      "text/plain": [
       "Text(0.5, 1.0, 'Fare box plot based on survival')"
      ]
     },
     "execution_count": 749,
     "metadata": {},
     "output_type": "execute_result"
    },
    {
     "data": {
      "image/png": "[encoded data removed]",
      "text/plain": [
       "<Figure size 432x288 with 1 Axes>"
      ]
     },
     "metadata": {
      "needs_background": "light"
     },
     "output_type": "display_data"
    }
   ],
   "source": [
    "sns.boxplot(data=train_data, x='Fare', y=\"Survived\", orient='h')\n",
    "plt.title(\"Fare box plot based on survival\")"
   ]
  },
  {
   "cell_type": "markdown",
   "metadata": {},
   "source": [
    "Survivors tend to have paid more for their fares."
   ]
  },
  {
   "cell_type": "code",
   "execution_count": 750,
   "metadata": {
    "execution": {
     "iopub.execute_input": "2024-12-04T19:04:25.512553Z",
     "iopub.status.busy": "2024-12-04T19:04:25.512219Z",
     "iopub.status.idle": "2024-12-04T19:04:25.519981Z",
     "shell.execute_reply": "2024-12-04T19:04:25.519014Z",
     "shell.execute_reply.started": "2024-12-04T19:04:25.512519Z"
    }
   },
   "outputs": [],
   "source": [
    "def categorize_age(age):\n",
    "    if age <= 1:\n",
    "        return 'Infant'\n",
    "    elif age < 13:\n",
    "        return 'Child'\n",
    "    elif age < 20:\n",
    "        return 'Teen'\n",
    "    elif age < 55:\n",
    "        return 'Adult'\n",
    "    elif age >= 55:\n",
    "        return 'Senior'\n",
    "    else:\n",
    "        return age"
   ]
  },
  {
   "cell_type": "code",
   "execution_count": 751,
   "metadata": {},
   "outputs": [],
   "source": [
    "train_data['AgeGroup'] = train_data['Age'].apply(categorize_age)"
   ]
  },
  {
   "cell_type": "code",
   "execution_count": 752,
   "metadata": {
    "execution": {
     "iopub.execute_input": "2024-12-04T19:04:25.521579Z",
     "iopub.status.busy": "2024-12-04T19:04:25.521237Z",
     "iopub.status.idle": "2024-12-04T19:04:25.553364Z",
     "shell.execute_reply": "2024-12-04T19:04:25.552133Z",
     "shell.execute_reply.started": "2024-12-04T19:04:25.521547Z"
    }
   },
   "outputs": [
    {
     "data": {
      "text/html": [
       "<div>\n",
       "<style scoped>\n",
       "    .dataframe tbody tr th:only-of-type {\n",
       "        vertical-align: middle;\n",
       "    }\n",
       "\n",
       "    .dataframe tbody tr th {\n",
       "        vertical-align: top;\n",
       "    }\n",
       "\n",
       "    .dataframe thead th {\n",
       "        text-align: right;\n",
       "    }\n",
       "</style>\n",
       "<table border=\"1\" class=\"dataframe\">\n",
       "  <thead>\n",
       "    <tr style=\"text-align: right;\">\n",
       "      <th></th>\n",
       "      <th>PassengerId</th>\n",
       "      <th>Survived</th>\n",
       "      <th>Pclass</th>\n",
       "      <th>Name</th>\n",
       "      <th>Sex</th>\n",
       "      <th>Age</th>\n",
       "      <th>SibSp</th>\n",
       "      <th>Parch</th>\n",
       "      <th>Ticket</th>\n",
       "      <th>Fare</th>\n",
       "      <th>Cabin</th>\n",
       "      <th>Embarked</th>\n",
       "      <th>Surname</th>\n",
       "      <th>CabinSection</th>\n",
       "      <th>AgeGroup</th>\n",
       "    </tr>\n",
       "  </thead>\n",
       "  <tbody>\n",
       "    <tr>\n",
       "      <th>0</th>\n",
       "      <td>1</td>\n",
       "      <td>0</td>\n",
       "      <td>3</td>\n",
       "      <td>Braund, Mr. Owen Harris</td>\n",
       "      <td>male</td>\n",
       "      <td>22.0</td>\n",
       "      <td>1</td>\n",
       "      <td>0</td>\n",
       "      <td>A/5 21171</td>\n",
       "      <td>7.2500</td>\n",
       "      <td>NaN</td>\n",
       "      <td>S</td>\n",
       "      <td>Braund</td>\n",
       "      <td>NaN</td>\n",
       "      <td>Adult</td>\n",
       "    </tr>\n",
       "    <tr>\n",
       "      <th>1</th>\n",
       "      <td>2</td>\n",
       "      <td>1</td>\n",
       "      <td>1</td>\n",
       "      <td>Cumings, Mrs. John Bradley (Florence Briggs Th...</td>\n",
       "      <td>female</td>\n",
       "      <td>38.0</td>\n",
       "      <td>1</td>\n",
       "      <td>0</td>\n",
       "      <td>PC 17599</td>\n",
       "      <td>71.2833</td>\n",
       "      <td>C85</td>\n",
       "      <td>C</td>\n",
       "      <td>Cumings</td>\n",
       "      <td>C</td>\n",
       "      <td>Adult</td>\n",
       "    </tr>\n",
       "    <tr>\n",
       "      <th>2</th>\n",
       "      <td>3</td>\n",
       "      <td>1</td>\n",
       "      <td>3</td>\n",
       "      <td>Heikkinen, Miss. Laina</td>\n",
       "      <td>female</td>\n",
       "      <td>26.0</td>\n",
       "      <td>0</td>\n",
       "      <td>0</td>\n",
       "      <td>STON/O2. 3101282</td>\n",
       "      <td>7.9250</td>\n",
       "      <td>NaN</td>\n",
       "      <td>S</td>\n",
       "      <td>Heikkinen</td>\n",
       "      <td>NaN</td>\n",
       "      <td>Adult</td>\n",
       "    </tr>\n",
       "    <tr>\n",
       "      <th>3</th>\n",
       "      <td>4</td>\n",
       "      <td>1</td>\n",
       "      <td>1</td>\n",
       "      <td>Futrelle, Mrs. Jacques Heath (Lily May Peel)</td>\n",
       "      <td>female</td>\n",
       "      <td>35.0</td>\n",
       "      <td>1</td>\n",
       "      <td>0</td>\n",
       "      <td>113803</td>\n",
       "      <td>53.1000</td>\n",
       "      <td>C123</td>\n",
       "      <td>S</td>\n",
       "      <td>Futrelle</td>\n",
       "      <td>C</td>\n",
       "      <td>Adult</td>\n",
       "    </tr>\n",
       "    <tr>\n",
       "      <th>4</th>\n",
       "      <td>5</td>\n",
       "      <td>0</td>\n",
       "      <td>3</td>\n",
       "      <td>Allen, Mr. William Henry</td>\n",
       "      <td>male</td>\n",
       "      <td>35.0</td>\n",
       "      <td>0</td>\n",
       "      <td>0</td>\n",
       "      <td>373450</td>\n",
       "      <td>8.0500</td>\n",
       "      <td>NaN</td>\n",
       "      <td>S</td>\n",
       "      <td>Allen</td>\n",
       "      <td>NaN</td>\n",
       "      <td>Adult</td>\n",
       "    </tr>\n",
       "  </tbody>\n",
       "</table>\n",
       "</div>"
      ],
      "text/plain": [
       "   PassengerId  Survived  Pclass  \\\n",
       "0            1         0       3   \n",
       "1            2         1       1   \n",
       "2            3         1       3   \n",
       "3            4         1       1   \n",
       "4            5         0       3   \n",
       "\n",
       "                                                Name     Sex   Age  SibSp  \\\n",
       "0                            Braund, Mr. Owen Harris    male  22.0      1   \n",
       "1  Cumings, Mrs. John Bradley (Florence Briggs Th...  female  38.0      1   \n",
       "2                             Heikkinen, Miss. Laina  female  26.0      0   \n",
       "3       Futrelle, Mrs. Jacques Heath (Lily May Peel)  female  35.0      1   \n",
       "4                           Allen, Mr. William Henry    male  35.0      0   \n",
       "\n",
       "   Parch            Ticket     Fare Cabin Embarked    Surname CabinSection  \\\n",
       "0      0         A/5 21171   7.2500   NaN        S     Braund          NaN   \n",
       "1      0          PC 17599  71.2833   C85        C    Cumings            C   \n",
       "2      0  STON/O2. 3101282   7.9250   NaN        S  Heikkinen          NaN   \n",
       "3      0            113803  53.1000  C123        S   Futrelle            C   \n",
       "4      0            373450   8.0500   NaN        S      Allen          NaN   \n",
       "\n",
       "  AgeGroup  \n",
       "0    Adult  \n",
       "1    Adult  \n",
       "2    Adult  \n",
       "3    Adult  \n",
       "4    Adult  "
      ]
     },
     "execution_count": 752,
     "metadata": {},
     "output_type": "execute_result"
    }
   ],
   "source": [
    "train_data.head()"
   ]
  },
  {
   "cell_type": "code",
   "execution_count": 753,
   "metadata": {
    "execution": {
     "iopub.execute_input": "2024-12-04T19:04:25.555336Z",
     "iopub.status.busy": "2024-12-04T19:04:25.554860Z",
     "iopub.status.idle": "2024-12-04T19:04:25.812056Z",
     "shell.execute_reply": "2024-12-04T19:04:25.810771Z",
     "shell.execute_reply.started": "2024-12-04T19:04:25.555289Z"
    }
   },
   "outputs": [
    {
     "data": {
      "text/plain": [
       "Text(0.5, 1.0, 'Survival by AgeGroup')"
      ]
     },
     "execution_count": 753,
     "metadata": {},
     "output_type": "execute_result"
    },
    {
     "data": {
      "image/png": "[encoded data removed]",
      "text/plain": [
       "<Figure size 432x288 with 1 Axes>"
      ]
     },
     "metadata": {
      "needs_background": "light"
     },
     "output_type": "display_data"
    }
   ],
   "source": [
    "sns.countplot(data=train_data, x=\"AgeGroup\", hue=\"Survived\")\n",
    "plt.title(\"Survival by AgeGroup\")"
   ]
  },
  {
   "cell_type": "markdown",
   "metadata": {},
   "source": [
    "Children and Infants had the best survivability rates.  Seniors fared the worst."
   ]
  },
  {
   "cell_type": "code",
   "execution_count": 754,
   "metadata": {},
   "outputs": [
    {
     "data": {
      "text/plain": [
       "Text(0.5, 1.0, 'Age Groups')"
      ]
     },
     "execution_count": 754,
     "metadata": {},
     "output_type": "execute_result"
    },
    {
     "data": {
      "image/png": "[encoded data removed]",
      "text/plain": [
       "<Figure size 432x288 with 1 Axes>"
      ]
     },
     "metadata": {},
     "output_type": "display_data"
    }
   ],
   "source": [
    "fig, ax = plt.subplots()\n",
    "ax.pie(train_data[\"AgeGroup\"].value_counts(), labels=['Adult', 'Child', 'Teen', 'Senior', 'Infant'])\n",
    "plt.title(\"Age Groups\")"
   ]
  },
  {
   "cell_type": "markdown",
   "metadata": {},
   "source": [
    "There are 177 missing values for Age (and Age Group).  I am including Age Group in the model.  I'll give the null (missing values) in Age Group a value of \"Unknown\"."
   ]
  },
  {
   "cell_type": "code",
   "execution_count": 755,
   "metadata": {},
   "outputs": [],
   "source": [
    "train_data['AgeGroup'] = train_data['AgeGroup'].fillna('Unknown')"
   ]
  },
  {
   "cell_type": "code",
   "execution_count": 756,
   "metadata": {},
   "outputs": [
    {
     "data": {
      "text/plain": [
       "Adult      508\n",
       "Unknown    177\n",
       "Teen        95\n",
       "Child       55\n",
       "Senior      42\n",
       "Infant      14\n",
       "Name: AgeGroup, dtype: int64"
      ]
     },
     "execution_count": 756,
     "metadata": {},
     "output_type": "execute_result"
    }
   ],
   "source": [
    "s = train_data['AgeGroup'].value_counts(dropna = False)\n",
    "s"
   ]
  },
  {
   "cell_type": "code",
   "execution_count": 757,
   "metadata": {},
   "outputs": [
    {
     "data": {
      "text/plain": [
       "Text(0.5, 1.0, 'Survival by AgeGroup')"
      ]
     },
     "execution_count": 757,
     "metadata": {},
     "output_type": "execute_result"
    },
    {
     "data": {
      "image/png": "[encoded data removed]",
      "text/plain": [
       "<Figure size 432x288 with 1 Axes>"
      ]
     },
     "metadata": {
      "needs_background": "light"
     },
     "output_type": "display_data"
    }
   ],
   "source": [
    "sns.countplot(data=train_data, x=\"AgeGroup\", hue=\"Survived\")\n",
    "plt.title(\"Survival by AgeGroup\")"
   ]
  },
  {
   "cell_type": "markdown",
   "metadata": {},
   "source": [
    "Passengers of Unknown Age did not fair well in Survivability."
   ]
  },
  {
   "cell_type": "code",
   "execution_count": 758,
   "metadata": {},
   "outputs": [],
   "source": [
    "mean_age = train_data['Age'].mean()"
   ]
  },
  {
   "cell_type": "code",
   "execution_count": 759,
   "metadata": {},
   "outputs": [
    {
     "data": {
      "text/plain": [
       "29.69911764705882"
      ]
     },
     "execution_count": 759,
     "metadata": {},
     "output_type": "execute_result"
    }
   ],
   "source": [
    "mean_age"
   ]
  },
  {
   "cell_type": "code",
   "execution_count": 760,
   "metadata": {},
   "outputs": [],
   "source": [
    "train_data['Age'] = train_data['Age'].fillna(mean_age)"
   ]
  },
  {
   "cell_type": "code",
   "execution_count": 761,
   "metadata": {
    "execution": {
     "iopub.execute_input": "2024-12-04T19:04:25.814009Z",
     "iopub.status.busy": "2024-12-04T19:04:25.813547Z",
     "iopub.status.idle": "2024-12-04T19:04:25.821918Z",
     "shell.execute_reply": "2024-12-04T19:04:25.820707Z",
     "shell.execute_reply.started": "2024-12-04T19:04:25.813959Z"
    }
   },
   "outputs": [
    {
     "data": {
      "text/plain": [
       "248"
      ]
     },
     "execution_count": 761,
     "metadata": {},
     "output_type": "execute_result"
    }
   ],
   "source": [
    "len(train_data['Fare'].unique())"
   ]
  },
  {
   "cell_type": "code",
   "execution_count": 762,
   "metadata": {},
   "outputs": [],
   "source": [
    "s = train_data[train_data['Pclass'] == 1]['Fare']"
   ]
  },
  {
   "cell_type": "code",
   "execution_count": 763,
   "metadata": {},
   "outputs": [
    {
     "name": "stdout",
     "output_type": "stream",
     "text": [
      "1       71.2833\n",
      "3       53.1000\n",
      "6       51.8625\n",
      "11      26.5500\n",
      "23      35.5000\n",
      "27     263.0000\n",
      "30      27.7208\n",
      "31     146.5208\n",
      "34      82.1708\n",
      "35      52.0000\n",
      "52      76.7292\n",
      "54      61.9792\n",
      "55      35.5000\n",
      "61      80.0000\n",
      "62      83.4750\n",
      "64      27.7208\n",
      "83      47.1000\n",
      "88     263.0000\n",
      "92      61.1750\n",
      "96      34.6542\n",
      "97      63.3583\n",
      "102     77.2875\n",
      "110     52.0000\n",
      "118    247.5208\n",
      "124     77.2875\n",
      "136     26.2833\n",
      "137     53.1000\n",
      "139     79.2000\n",
      "151     66.6000\n",
      "155     61.3792\n",
      "166     55.0000\n",
      "168     25.9250\n",
      "170     33.5000\n",
      "174     30.6958\n",
      "177     28.7125\n",
      "185     50.0000\n",
      "187     26.5500\n",
      "194     27.7208\n",
      "195    146.5208\n",
      "209     31.0000\n",
      "215    113.2750\n",
      "218     76.2917\n",
      "224     90.0000\n",
      "230     83.4750\n",
      "245     90.0000\n",
      "248     52.5542\n",
      "252     26.5500\n",
      "256     79.2000\n",
      "257     86.5000\n",
      "258    512.3292\n",
      "262     79.6500\n",
      "263      0.0000\n",
      "268    153.4625\n",
      "269    135.6333\n",
      "270     31.0000\n",
      "273     29.7000\n",
      "275     77.9583\n",
      "284     26.0000\n",
      "290     78.8500\n",
      "291     91.0792\n",
      "295     27.7208\n",
      "297    151.5500\n",
      "298     30.5000\n",
      "299    247.5208\n",
      "305    151.5500\n",
      "306    110.8833\n",
      "307    108.9000\n",
      "309     56.9292\n",
      "310     83.1583\n",
      "311    262.3750\n",
      "318    164.8667\n",
      "319    134.5000\n",
      "325    135.6333\n",
      "329     57.9792\n",
      "331     28.5000\n",
      "332    153.4625\n",
      "334    133.6500\n",
      "336     66.6000\n",
      "337    134.5000\n",
      "339     35.5000\n",
      "341    263.0000\n",
      "351     35.0000\n",
      "356     55.0000\n",
      "366     75.2500\n",
      "369     69.3000\n",
      "370     55.4417\n",
      "373    135.6333\n",
      "375     82.1708\n",
      "377    211.5000\n",
      "380    227.5250\n",
      "383     52.0000\n",
      "390    120.0000\n",
      "393    113.2750\n",
      "412     90.0000\n",
      "430     26.5500\n",
      "434     55.9000\n",
      "435    120.0000\n",
      "438    263.0000\n",
      "445     81.8583\n",
      "447     26.5500\n",
      "449     30.5000\n",
      "452     27.7500\n",
      "453     89.1042\n",
      "456     26.5500\n",
      "457     51.8625\n",
      "460     26.5500\n",
      "462     38.5000\n",
      "467     26.5500\n",
      "475     52.0000\n",
      "484     91.0792\n",
      "486     90.0000\n",
      "487     29.7000\n",
      "492     30.5000\n",
      "493     49.5042\n",
      "496     78.2667\n",
      "498    151.5500\n",
      "504     86.5000\n",
      "505    108.9000\n",
      "507     26.5500\n",
      "512     26.2875\n",
      "513     59.4000\n",
      "515     34.0208\n",
      "520     93.5000\n",
      "523     57.9792\n",
      "527    221.7792\n",
      "536     26.5500\n",
      "537    106.4250\n",
      "539     49.5000\n",
      "540     71.0000\n",
      "544    106.4250\n",
      "545     26.0000\n",
      "550    110.8833\n",
      "555     26.5500\n",
      "556     39.6000\n",
      "557    227.5250\n",
      "558     79.6500\n",
      "571     51.4792\n",
      "572     26.3875\n",
      "577     55.9000\n",
      "581    110.8833\n",
      "583     40.1250\n",
      "585     79.6500\n",
      "587     79.2000\n",
      "591     78.2667\n",
      "599     56.9292\n",
      "602     42.4000\n",
      "604     26.5500\n",
      "607     30.5000\n",
      "609    153.4625\n",
      "621     52.5542\n",
      "625     32.3208\n",
      "627     77.9583\n",
      "630     30.0000\n",
      "632     30.5000\n",
      "633      0.0000\n",
      "641     69.3000\n",
      "645     76.7292\n",
      "647     35.5000\n",
      "659    113.2750\n",
      "660    133.6500\n",
      "662     25.5875\n",
      "669     52.0000\n",
      "671     52.0000\n",
      "679    512.3292\n",
      "681     76.7292\n",
      "689    211.3375\n",
      "690     57.0000\n",
      "694     26.5500\n",
      "698    110.8833\n",
      "700    227.5250\n",
      "701     26.2875\n",
      "707     26.2875\n",
      "708    151.5500\n",
      "710     49.5042\n",
      "711     26.5500\n",
      "712     52.0000\n",
      "716    227.5250\n",
      "724     53.1000\n",
      "730    211.3375\n",
      "737    512.3292\n",
      "740     30.0000\n",
      "741     78.8500\n",
      "742    262.3750\n",
      "745     71.0000\n",
      "748     53.1000\n",
      "759     86.5000\n",
      "763    120.0000\n",
      "765     77.9583\n",
      "766     39.6000\n",
      "779    211.3375\n",
      "781     57.0000\n",
      "782     30.0000\n",
      "789     79.2000\n",
      "793     30.6958\n",
      "796     25.9292\n",
      "802    120.0000\n",
      "806      0.0000\n",
      "809     53.1000\n",
      "815      0.0000\n",
      "820     93.5000\n",
      "822      0.0000\n",
      "829     80.0000\n",
      "835     83.1583\n",
      "839     29.7000\n",
      "842     31.0000\n",
      "849     89.1042\n",
      "853     39.4000\n",
      "856    164.8667\n",
      "857     26.5500\n",
      "862     25.9292\n",
      "867     50.4958\n",
      "871     52.5542\n",
      "872      5.0000\n",
      "879     83.1583\n",
      "887     30.0000\n",
      "889     30.0000\n",
      "Name: Fare, dtype: float64\n"
     ]
    }
   ],
   "source": [
    "print(s)"
   ]
  },
  {
   "cell_type": "code",
   "execution_count": 764,
   "metadata": {},
   "outputs": [
    {
     "data": {
      "image/png": "[encoded data removed]",
      "text/plain": [
       "<Figure size 432x288 with 1 Axes>"
      ]
     },
     "metadata": {
      "needs_background": "light"
     },
     "output_type": "display_data"
    }
   ],
   "source": [
    "sns.stripplot(x = s)\n",
    "plt.show()"
   ]
  },
  {
   "cell_type": "code",
   "execution_count": 765,
   "metadata": {},
   "outputs": [
    {
     "data": {
      "image/png": "[encoded data removed]",
      "text/plain": [
       "<Figure size 1584x1296 with 3 Axes>"
      ]
     },
     "metadata": {
      "needs_background": "light"
     },
     "output_type": "display_data"
    }
   ],
   "source": [
    "fig, ax = plt.subplots(3, 1, figsize = (22,18))\n",
    "\n",
    "\n",
    "sns.stripplot(x=train_data[train_data['Pclass'] == 1]['Fare'], ax=ax[0])\n",
    "ax[0].set_title(\"Fares paid by 1st Class passengers\", fontsize='14')\n",
    "\n",
    "sns.stripplot(x=train_data[train_data['Pclass'] == 2]['Fare'], ax=ax[1])\n",
    "ax[1].set_title(\"Fares paid by 2nd Class passengers\", fontsize='14')\n",
    "\n",
    "sns.stripplot(x=train_data[train_data['Pclass'] == 3]['Fare'], ax=ax[2])\n",
    "ax[2].set_title(\"Fares paid by 3rd Class passengers\", fontsize='14')\n",
    "\n",
    "plt.show()"
   ]
  },
  {
   "cell_type": "markdown",
   "metadata": {},
   "source": [
    "No 3rd Class passenger paid more than 70.  The maximum that a 2nd Class passenger paid was around 75.  Meanwhile, there are many 1st Class passengers that paid more than 100, with some paying over 500!"
   ]
  },
  {
   "cell_type": "code",
   "execution_count": 766,
   "metadata": {},
   "outputs": [
    {
     "data": {
      "text/plain": [
       "Text(0.5, 1.0, 'Box plot of Fare by Class')"
      ]
     },
     "execution_count": 766,
     "metadata": {},
     "output_type": "execute_result"
    },
    {
     "data": {
      "image/png": "[encoded data removed]",
      "text/plain": [
       "<Figure size 432x288 with 1 Axes>"
      ]
     },
     "metadata": {
      "needs_background": "light"
     },
     "output_type": "display_data"
    }
   ],
   "source": [
    "sns.boxplot(data=train_data, x='Fare', y=\"Pclass\", orient='h')\n",
    "plt.title(\"Box plot of Fare by Class\")"
   ]
  },
  {
   "cell_type": "markdown",
   "metadata": {},
   "source": [
    "There is a correlation between Fare and Class.  The higher the Class, the higher the Fare paid."
   ]
  },
  {
   "cell_type": "code",
   "execution_count": 767,
   "metadata": {},
   "outputs": [
    {
     "data": {
      "text/plain": [
       "Text(0.5, 1.0, 'Box plot of Fare by Class')"
      ]
     },
     "execution_count": 767,
     "metadata": {},
     "output_type": "execute_result"
    },
    {
     "data": {
      "image/png": "[encoded data removed]",
      "text/plain": [
       "<Figure size 2160x864 with 1 Axes>"
      ]
     },
     "metadata": {
      "needs_background": "light"
     },
     "output_type": "display_data"
    }
   ],
   "source": [
    "plt.figure(figsize=(30,12))\n",
    "sns.boxplot(data=train_data, x='Fare', y=\"Pclass\", hue=\"Survived\", orient='h')\n",
    "plt.title(\"Box plot of Fare by Class\")"
   ]
  },
  {
   "cell_type": "code",
   "execution_count": 768,
   "metadata": {},
   "outputs": [
    {
     "data": {
      "text/plain": [
       "0    608\n",
       "1    209\n",
       "2     28\n",
       "4     18\n",
       "3     16\n",
       "8      7\n",
       "5      5\n",
       "Name: SibSp, dtype: int64"
      ]
     },
     "execution_count": 768,
     "metadata": {},
     "output_type": "execute_result"
    }
   ],
   "source": [
    "train_data['SibSp'].value_counts()"
   ]
  },
  {
   "cell_type": "code",
   "execution_count": 769,
   "metadata": {},
   "outputs": [
    {
     "data": {
      "text/plain": [
       "Text(0.5, 1.0, 'Survival by number of siblings and spouses')"
      ]
     },
     "execution_count": 769,
     "metadata": {},
     "output_type": "execute_result"
    },
    {
     "data": {
      "image/png": "[encoded data removed]",
      "text/plain": [
       "<Figure size 432x288 with 1 Axes>"
      ]
     },
     "metadata": {
      "needs_background": "light"
     },
     "output_type": "display_data"
    }
   ],
   "source": [
    "sns.countplot(data=train_data, x=\"SibSp\", hue=\"Survived\")\n",
    "plt.title(\"Survival by number of siblings and spouses\")"
   ]
  },
  {
   "cell_type": "markdown",
   "metadata": {},
   "source": [
    "Travelling with one other sibling or spouse had the highest survivability.  Travelling with 2 looks pretty good too."
   ]
  },
  {
   "cell_type": "code",
   "execution_count": 770,
   "metadata": {},
   "outputs": [
    {
     "data": {
      "text/plain": [
       "0    678\n",
       "1    118\n",
       "2     80\n",
       "3      5\n",
       "5      5\n",
       "4      4\n",
       "6      1\n",
       "Name: Parch, dtype: int64"
      ]
     },
     "execution_count": 770,
     "metadata": {},
     "output_type": "execute_result"
    }
   ],
   "source": [
    "train_data['Parch'].value_counts()"
   ]
  },
  {
   "cell_type": "code",
   "execution_count": 771,
   "metadata": {},
   "outputs": [
    {
     "data": {
      "text/plain": [
       "Text(0.5, 1.0, 'Survival by number of parents and children')"
      ]
     },
     "execution_count": 771,
     "metadata": {},
     "output_type": "execute_result"
    },
    {
     "data": {
      "image/png": "[encoded data removed]",
      "text/plain": [
       "<Figure size 432x288 with 1 Axes>"
      ]
     },
     "metadata": {
      "needs_background": "light"
     },
     "output_type": "display_data"
    }
   ],
   "source": [
    "sns.countplot(data=train_data, x=\"Parch\", hue=\"Survived\")\n",
    "plt.title(\"Survival by number of parents and children\")"
   ]
  },
  {
   "cell_type": "markdown",
   "metadata": {},
   "source": [
    "Travelling with 1, 2, or 3 parents or children had the best survivability."
   ]
  },
  {
   "cell_type": "code",
   "execution_count": 772,
   "metadata": {},
   "outputs": [
    {
     "data": {
      "text/plain": [
       "PassengerId       0\n",
       "Survived          0\n",
       "Pclass            0\n",
       "Name              0\n",
       "Sex               0\n",
       "Age               0\n",
       "SibSp             0\n",
       "Parch             0\n",
       "Ticket            0\n",
       "Fare              0\n",
       "Cabin           687\n",
       "Embarked          0\n",
       "Surname           0\n",
       "CabinSection    687\n",
       "AgeGroup          0\n",
       "dtype: int64"
      ]
     },
     "execution_count": 772,
     "metadata": {},
     "output_type": "execute_result"
    }
   ],
   "source": [
    "train_data.isnull().sum()"
   ]
  },
  {
   "cell_type": "markdown",
   "metadata": {},
   "source": [
    "As it appears that Age and Embarked may have a correlation with Survived, I will eliminate all rows containing null for those columns.  Null values in the Cabin column are not as important as I will not include them in my model."
   ]
  },
  {
   "cell_type": "markdown",
   "metadata": {},
   "source": [
    "After deleting rows with nulls, recheck for outliers"
   ]
  },
  {
   "cell_type": "code",
   "execution_count": 773,
   "metadata": {},
   "outputs": [
    {
     "data": {
      "image/png": "[encoded data removed]",
      "text/plain": [
       "<Figure size 720x144 with 1 Axes>"
      ]
     },
     "metadata": {
      "needs_background": "light"
     },
     "output_type": "display_data"
    }
   ],
   "source": [
    "plt.figure(figsize=(10,2))\n",
    "sns.boxplot(x=train_data['Age'], fliersize=1)\n",
    "plt.title('Age box plot');"
   ]
  },
  {
   "cell_type": "code",
   "execution_count": 774,
   "metadata": {},
   "outputs": [
    {
     "data": {
      "image/png": "[encoded data removed]",
      "text/plain": [
       "<Figure size 720x144 with 1 Axes>"
      ]
     },
     "metadata": {
      "needs_background": "light"
     },
     "output_type": "display_data"
    }
   ],
   "source": [
    "plt.figure(figsize=(10,2))\n",
    "sns.boxplot(x=train_data['SibSp'], fliersize=1)\n",
    "plt.title('SibSp box plot');"
   ]
  },
  {
   "cell_type": "code",
   "execution_count": 775,
   "metadata": {},
   "outputs": [
    {
     "data": {
      "text/plain": [
       "0    608\n",
       "1    209\n",
       "2     28\n",
       "4     18\n",
       "3     16\n",
       "8      7\n",
       "5      5\n",
       "Name: SibSp, dtype: int64"
      ]
     },
     "execution_count": 775,
     "metadata": {},
     "output_type": "execute_result"
    }
   ],
   "source": [
    "train_data['SibSp'].value_counts()"
   ]
  },
  {
   "cell_type": "code",
   "execution_count": 776,
   "metadata": {},
   "outputs": [
    {
     "data": {
      "image/png": "[encoded data removed]",
      "text/plain": [
       "<Figure size 720x144 with 1 Axes>"
      ]
     },
     "metadata": {
      "needs_background": "light"
     },
     "output_type": "display_data"
    }
   ],
   "source": [
    "plt.figure(figsize=(10,2))\n",
    "sns.boxplot(x=train_data['Parch'], fliersize=1)\n",
    "plt.title('Parch box plot');"
   ]
  },
  {
   "cell_type": "code",
   "execution_count": 777,
   "metadata": {},
   "outputs": [
    {
     "data": {
      "text/plain": [
       "0    678\n",
       "1    118\n",
       "2     80\n",
       "3      5\n",
       "5      5\n",
       "4      4\n",
       "6      1\n",
       "Name: Parch, dtype: int64"
      ]
     },
     "execution_count": 777,
     "metadata": {},
     "output_type": "execute_result"
    }
   ],
   "source": [
    "train_data['Parch'].value_counts()"
   ]
  },
  {
   "cell_type": "code",
   "execution_count": 778,
   "metadata": {},
   "outputs": [
    {
     "data": {
      "image/png": "[encoded data removed]",
      "text/plain": [
       "<Figure size 720x144 with 1 Axes>"
      ]
     },
     "metadata": {
      "needs_background": "light"
     },
     "output_type": "display_data"
    }
   ],
   "source": [
    "plt.figure(figsize=(10,2))\n",
    "sns.boxplot(x=train_data['Fare'], fliersize=1)\n",
    "plt.title('Fare box plot');"
   ]
  },
  {
   "cell_type": "code",
   "execution_count": 779,
   "metadata": {},
   "outputs": [
    {
     "name": "stdout",
     "output_type": "stream",
     "text": [
      "Range of non-outlier values: (-26.724, 65.6344)\n",
      "116\n"
     ]
    }
   ],
   "source": [
    "percentile25 = train_data['Fare'].quantile(.25)\n",
    "\n",
    "percentile75 = train_data['Fare'].quantile(.75)\n",
    "\n",
    "iqr = percentile75 - percentile25\n",
    "\n",
    "upper_limit = percentile75 + 1.5 * iqr\n",
    "lower_limit = percentile25 - 1.5 * iqr\n",
    "print(f\"Range of non-outlier values: ({lower_limit}, {upper_limit})\")\n",
    "\n",
    "outliers = train_data[(train_data['Fare'] > upper_limit)| (train_data['Fare'] < lower_limit)]\n",
    "print(len(outliers))"
   ]
  },
  {
   "cell_type": "code",
   "execution_count": 780,
   "metadata": {},
   "outputs": [],
   "source": [
    "# train_data = train_data[train_data['Fare'] <= 178.21050000000002]"
   ]
  },
  {
   "cell_type": "code",
   "execution_count": 781,
   "metadata": {},
   "outputs": [],
   "source": [
    "def categorize_fare(fare):\n",
    "    if fare <= percentile25:\n",
    "        return 'LowFare'\n",
    "    elif fare <= percentile75:\n",
    "        return 'MediumFare'\n",
    "    elif fare > percentile75:\n",
    "        return 'HighFare'\n",
    "    else:\n",
    "        return fare"
   ]
  },
  {
   "cell_type": "code",
   "execution_count": 782,
   "metadata": {},
   "outputs": [],
   "source": [
    "train_data['FareGroup'] = train_data['Fare'].apply(categorize_fare)"
   ]
  },
  {
   "cell_type": "code",
   "execution_count": 783,
   "metadata": {},
   "outputs": [
    {
     "data": {
      "text/plain": [
       "Text(0.5, 1.0, 'Survival by Fare Group')"
      ]
     },
     "execution_count": 783,
     "metadata": {},
     "output_type": "execute_result"
    },
    {
     "data": {
      "image/png": "[encoded data removed]",
      "text/plain": [
       "<Figure size 432x288 with 1 Axes>"
      ]
     },
     "metadata": {
      "needs_background": "light"
     },
     "output_type": "display_data"
    }
   ],
   "source": [
    "sns.countplot(data=train_data, x=\"FareGroup\", hue=\"Survived\")\n",
    "plt.title(\"Survival by Fare Group\")"
   ]
  },
  {
   "cell_type": "markdown",
   "metadata": {},
   "source": [
    "People in the HighFare group had the best survivability.  People in the LowFare group had the worst survivability."
   ]
  },
  {
   "cell_type": "code",
   "execution_count": 784,
   "metadata": {},
   "outputs": [
    {
     "data": {
      "text/html": [
       "<div>\n",
       "<style scoped>\n",
       "    .dataframe tbody tr th:only-of-type {\n",
       "        vertical-align: middle;\n",
       "    }\n",
       "\n",
       "    .dataframe tbody tr th {\n",
       "        vertical-align: top;\n",
       "    }\n",
       "\n",
       "    .dataframe thead th {\n",
       "        text-align: right;\n",
       "    }\n",
       "</style>\n",
       "<table border=\"1\" class=\"dataframe\">\n",
       "  <thead>\n",
       "    <tr style=\"text-align: right;\">\n",
       "      <th></th>\n",
       "      <th>PassengerId</th>\n",
       "      <th>Survived</th>\n",
       "      <th>Pclass</th>\n",
       "      <th>Name</th>\n",
       "      <th>Sex</th>\n",
       "      <th>Age</th>\n",
       "      <th>SibSp</th>\n",
       "      <th>Parch</th>\n",
       "      <th>Ticket</th>\n",
       "      <th>Fare</th>\n",
       "      <th>Cabin</th>\n",
       "      <th>Embarked</th>\n",
       "      <th>Surname</th>\n",
       "      <th>CabinSection</th>\n",
       "      <th>AgeGroup</th>\n",
       "      <th>FareGroup</th>\n",
       "    </tr>\n",
       "  </thead>\n",
       "  <tbody>\n",
       "    <tr>\n",
       "      <th>0</th>\n",
       "      <td>1</td>\n",
       "      <td>0</td>\n",
       "      <td>3</td>\n",
       "      <td>Braund, Mr. Owen Harris</td>\n",
       "      <td>male</td>\n",
       "      <td>22.0</td>\n",
       "      <td>1</td>\n",
       "      <td>0</td>\n",
       "      <td>A/5 21171</td>\n",
       "      <td>7.2500</td>\n",
       "      <td>NaN</td>\n",
       "      <td>S</td>\n",
       "      <td>Braund</td>\n",
       "      <td>NaN</td>\n",
       "      <td>Adult</td>\n",
       "      <td>LowFare</td>\n",
       "    </tr>\n",
       "    <tr>\n",
       "      <th>1</th>\n",
       "      <td>2</td>\n",
       "      <td>1</td>\n",
       "      <td>1</td>\n",
       "      <td>Cumings, Mrs. John Bradley (Florence Briggs Th...</td>\n",
       "      <td>female</td>\n",
       "      <td>38.0</td>\n",
       "      <td>1</td>\n",
       "      <td>0</td>\n",
       "      <td>PC 17599</td>\n",
       "      <td>71.2833</td>\n",
       "      <td>C85</td>\n",
       "      <td>C</td>\n",
       "      <td>Cumings</td>\n",
       "      <td>C</td>\n",
       "      <td>Adult</td>\n",
       "      <td>HighFare</td>\n",
       "    </tr>\n",
       "    <tr>\n",
       "      <th>2</th>\n",
       "      <td>3</td>\n",
       "      <td>1</td>\n",
       "      <td>3</td>\n",
       "      <td>Heikkinen, Miss. Laina</td>\n",
       "      <td>female</td>\n",
       "      <td>26.0</td>\n",
       "      <td>0</td>\n",
       "      <td>0</td>\n",
       "      <td>STON/O2. 3101282</td>\n",
       "      <td>7.9250</td>\n",
       "      <td>NaN</td>\n",
       "      <td>S</td>\n",
       "      <td>Heikkinen</td>\n",
       "      <td>NaN</td>\n",
       "      <td>Adult</td>\n",
       "      <td>MediumFare</td>\n",
       "    </tr>\n",
       "    <tr>\n",
       "      <th>3</th>\n",
       "      <td>4</td>\n",
       "      <td>1</td>\n",
       "      <td>1</td>\n",
       "      <td>Futrelle, Mrs. Jacques Heath (Lily May Peel)</td>\n",
       "      <td>female</td>\n",
       "      <td>35.0</td>\n",
       "      <td>1</td>\n",
       "      <td>0</td>\n",
       "      <td>113803</td>\n",
       "      <td>53.1000</td>\n",
       "      <td>C123</td>\n",
       "      <td>S</td>\n",
       "      <td>Futrelle</td>\n",
       "      <td>C</td>\n",
       "      <td>Adult</td>\n",
       "      <td>HighFare</td>\n",
       "    </tr>\n",
       "    <tr>\n",
       "      <th>4</th>\n",
       "      <td>5</td>\n",
       "      <td>0</td>\n",
       "      <td>3</td>\n",
       "      <td>Allen, Mr. William Henry</td>\n",
       "      <td>male</td>\n",
       "      <td>35.0</td>\n",
       "      <td>0</td>\n",
       "      <td>0</td>\n",
       "      <td>373450</td>\n",
       "      <td>8.0500</td>\n",
       "      <td>NaN</td>\n",
       "      <td>S</td>\n",
       "      <td>Allen</td>\n",
       "      <td>NaN</td>\n",
       "      <td>Adult</td>\n",
       "      <td>MediumFare</td>\n",
       "    </tr>\n",
       "  </tbody>\n",
       "</table>\n",
       "</div>"
      ],
      "text/plain": [
       "   PassengerId  Survived  Pclass  \\\n",
       "0            1         0       3   \n",
       "1            2         1       1   \n",
       "2            3         1       3   \n",
       "3            4         1       1   \n",
       "4            5         0       3   \n",
       "\n",
       "                                                Name     Sex   Age  SibSp  \\\n",
       "0                            Braund, Mr. Owen Harris    male  22.0      1   \n",
       "1  Cumings, Mrs. John Bradley (Florence Briggs Th...  female  38.0      1   \n",
       "2                             Heikkinen, Miss. Laina  female  26.0      0   \n",
       "3       Futrelle, Mrs. Jacques Heath (Lily May Peel)  female  35.0      1   \n",
       "4                           Allen, Mr. William Henry    male  35.0      0   \n",
       "\n",
       "   Parch            Ticket     Fare Cabin Embarked    Surname CabinSection  \\\n",
       "0      0         A/5 21171   7.2500   NaN        S     Braund          NaN   \n",
       "1      0          PC 17599  71.2833   C85        C    Cumings            C   \n",
       "2      0  STON/O2. 3101282   7.9250   NaN        S  Heikkinen          NaN   \n",
       "3      0            113803  53.1000  C123        S   Futrelle            C   \n",
       "4      0            373450   8.0500   NaN        S      Allen          NaN   \n",
       "\n",
       "  AgeGroup   FareGroup  \n",
       "0    Adult     LowFare  \n",
       "1    Adult    HighFare  \n",
       "2    Adult  MediumFare  \n",
       "3    Adult    HighFare  \n",
       "4    Adult  MediumFare  "
      ]
     },
     "execution_count": 784,
     "metadata": {},
     "output_type": "execute_result"
    }
   ],
   "source": [
    "train_data.head()"
   ]
  },
  {
   "cell_type": "code",
   "execution_count": 785,
   "metadata": {},
   "outputs": [],
   "source": [
    "#train_data = pd.get_dummies(data=train_data, columns=['Sex', 'Cabin', 'Embarked', 'AgeGroup'])\n",
    "train_data = pd.get_dummies(data=train_data, columns=['Sex', 'AgeGroup','Embarked', 'CabinSection', 'FareGroup'])\n",
    "# dropped Cabin from inclusion in columns since it was not working with the test file / data"
   ]
  },
  {
   "cell_type": "code",
   "execution_count": 786,
   "metadata": {},
   "outputs": [
    {
     "data": {
      "text/html": [
       "<div>\n",
       "<style scoped>\n",
       "    .dataframe tbody tr th:only-of-type {\n",
       "        vertical-align: middle;\n",
       "    }\n",
       "\n",
       "    .dataframe tbody tr th {\n",
       "        vertical-align: top;\n",
       "    }\n",
       "\n",
       "    .dataframe thead th {\n",
       "        text-align: right;\n",
       "    }\n",
       "</style>\n",
       "<table border=\"1\" class=\"dataframe\">\n",
       "  <thead>\n",
       "    <tr style=\"text-align: right;\">\n",
       "      <th></th>\n",
       "      <th>PassengerId</th>\n",
       "      <th>Survived</th>\n",
       "      <th>Pclass</th>\n",
       "      <th>Name</th>\n",
       "      <th>Age</th>\n",
       "      <th>SibSp</th>\n",
       "      <th>Parch</th>\n",
       "      <th>Ticket</th>\n",
       "      <th>Fare</th>\n",
       "      <th>Cabin</th>\n",
       "      <th>Surname</th>\n",
       "      <th>Sex_female</th>\n",
       "      <th>Sex_male</th>\n",
       "      <th>AgeGroup_Adult</th>\n",
       "      <th>AgeGroup_Child</th>\n",
       "      <th>AgeGroup_Infant</th>\n",
       "      <th>AgeGroup_Senior</th>\n",
       "      <th>AgeGroup_Teen</th>\n",
       "      <th>AgeGroup_Unknown</th>\n",
       "      <th>Embarked_C</th>\n",
       "      <th>Embarked_Q</th>\n",
       "      <th>Embarked_S</th>\n",
       "      <th>Embarked_U</th>\n",
       "      <th>CabinSection_A</th>\n",
       "      <th>CabinSection_B</th>\n",
       "      <th>CabinSection_C</th>\n",
       "      <th>CabinSection_D</th>\n",
       "      <th>CabinSection_E</th>\n",
       "      <th>CabinSection_F</th>\n",
       "      <th>CabinSection_G</th>\n",
       "      <th>CabinSection_T</th>\n",
       "      <th>FareGroup_HighFare</th>\n",
       "      <th>FareGroup_LowFare</th>\n",
       "      <th>FareGroup_MediumFare</th>\n",
       "    </tr>\n",
       "  </thead>\n",
       "  <tbody>\n",
       "    <tr>\n",
       "      <th>0</th>\n",
       "      <td>1</td>\n",
       "      <td>0</td>\n",
       "      <td>3</td>\n",
       "      <td>Braund, Mr. Owen Harris</td>\n",
       "      <td>22.0</td>\n",
       "      <td>1</td>\n",
       "      <td>0</td>\n",
       "      <td>A/5 21171</td>\n",
       "      <td>7.2500</td>\n",
       "      <td>NaN</td>\n",
       "      <td>Braund</td>\n",
       "      <td>0</td>\n",
       "      <td>1</td>\n",
       "      <td>1</td>\n",
       "      <td>0</td>\n",
       "      <td>0</td>\n",
       "      <td>0</td>\n",
       "      <td>0</td>\n",
       "      <td>0</td>\n",
       "      <td>0</td>\n",
       "      <td>0</td>\n",
       "      <td>1</td>\n",
       "      <td>0</td>\n",
       "      <td>0</td>\n",
       "      <td>0</td>\n",
       "      <td>0</td>\n",
       "      <td>0</td>\n",
       "      <td>0</td>\n",
       "      <td>0</td>\n",
       "      <td>0</td>\n",
       "      <td>0</td>\n",
       "      <td>0</td>\n",
       "      <td>1</td>\n",
       "      <td>0</td>\n",
       "    </tr>\n",
       "    <tr>\n",
       "      <th>1</th>\n",
       "      <td>2</td>\n",
       "      <td>1</td>\n",
       "      <td>1</td>\n",
       "      <td>Cumings, Mrs. John Bradley (Florence Briggs Th...</td>\n",
       "      <td>38.0</td>\n",
       "      <td>1</td>\n",
       "      <td>0</td>\n",
       "      <td>PC 17599</td>\n",
       "      <td>71.2833</td>\n",
       "      <td>C85</td>\n",
       "      <td>Cumings</td>\n",
       "      <td>1</td>\n",
       "      <td>0</td>\n",
       "      <td>1</td>\n",
       "      <td>0</td>\n",
       "      <td>0</td>\n",
       "      <td>0</td>\n",
       "      <td>0</td>\n",
       "      <td>0</td>\n",
       "      <td>1</td>\n",
       "      <td>0</td>\n",
       "      <td>0</td>\n",
       "      <td>0</td>\n",
       "      <td>0</td>\n",
       "      <td>0</td>\n",
       "      <td>1</td>\n",
       "      <td>0</td>\n",
       "      <td>0</td>\n",
       "      <td>0</td>\n",
       "      <td>0</td>\n",
       "      <td>0</td>\n",
       "      <td>1</td>\n",
       "      <td>0</td>\n",
       "      <td>0</td>\n",
       "    </tr>\n",
       "    <tr>\n",
       "      <th>2</th>\n",
       "      <td>3</td>\n",
       "      <td>1</td>\n",
       "      <td>3</td>\n",
       "      <td>Heikkinen, Miss. Laina</td>\n",
       "      <td>26.0</td>\n",
       "      <td>0</td>\n",
       "      <td>0</td>\n",
       "      <td>STON/O2. 3101282</td>\n",
       "      <td>7.9250</td>\n",
       "      <td>NaN</td>\n",
       "      <td>Heikkinen</td>\n",
       "      <td>1</td>\n",
       "      <td>0</td>\n",
       "      <td>1</td>\n",
       "      <td>0</td>\n",
       "      <td>0</td>\n",
       "      <td>0</td>\n",
       "      <td>0</td>\n",
       "      <td>0</td>\n",
       "      <td>0</td>\n",
       "      <td>0</td>\n",
       "      <td>1</td>\n",
       "      <td>0</td>\n",
       "      <td>0</td>\n",
       "      <td>0</td>\n",
       "      <td>0</td>\n",
       "      <td>0</td>\n",
       "      <td>0</td>\n",
       "      <td>0</td>\n",
       "      <td>0</td>\n",
       "      <td>0</td>\n",
       "      <td>0</td>\n",
       "      <td>0</td>\n",
       "      <td>1</td>\n",
       "    </tr>\n",
       "    <tr>\n",
       "      <th>3</th>\n",
       "      <td>4</td>\n",
       "      <td>1</td>\n",
       "      <td>1</td>\n",
       "      <td>Futrelle, Mrs. Jacques Heath (Lily May Peel)</td>\n",
       "      <td>35.0</td>\n",
       "      <td>1</td>\n",
       "      <td>0</td>\n",
       "      <td>113803</td>\n",
       "      <td>53.1000</td>\n",
       "      <td>C123</td>\n",
       "      <td>Futrelle</td>\n",
       "      <td>1</td>\n",
       "      <td>0</td>\n",
       "      <td>1</td>\n",
       "      <td>0</td>\n",
       "      <td>0</td>\n",
       "      <td>0</td>\n",
       "      <td>0</td>\n",
       "      <td>0</td>\n",
       "      <td>0</td>\n",
       "      <td>0</td>\n",
       "      <td>1</td>\n",
       "      <td>0</td>\n",
       "      <td>0</td>\n",
       "      <td>0</td>\n",
       "      <td>1</td>\n",
       "      <td>0</td>\n",
       "      <td>0</td>\n",
       "      <td>0</td>\n",
       "      <td>0</td>\n",
       "      <td>0</td>\n",
       "      <td>1</td>\n",
       "      <td>0</td>\n",
       "      <td>0</td>\n",
       "    </tr>\n",
       "    <tr>\n",
       "      <th>4</th>\n",
       "      <td>5</td>\n",
       "      <td>0</td>\n",
       "      <td>3</td>\n",
       "      <td>Allen, Mr. William Henry</td>\n",
       "      <td>35.0</td>\n",
       "      <td>0</td>\n",
       "      <td>0</td>\n",
       "      <td>373450</td>\n",
       "      <td>8.0500</td>\n",
       "      <td>NaN</td>\n",
       "      <td>Allen</td>\n",
       "      <td>0</td>\n",
       "      <td>1</td>\n",
       "      <td>1</td>\n",
       "      <td>0</td>\n",
       "      <td>0</td>\n",
       "      <td>0</td>\n",
       "      <td>0</td>\n",
       "      <td>0</td>\n",
       "      <td>0</td>\n",
       "      <td>0</td>\n",
       "      <td>1</td>\n",
       "      <td>0</td>\n",
       "      <td>0</td>\n",
       "      <td>0</td>\n",
       "      <td>0</td>\n",
       "      <td>0</td>\n",
       "      <td>0</td>\n",
       "      <td>0</td>\n",
       "      <td>0</td>\n",
       "      <td>0</td>\n",
       "      <td>0</td>\n",
       "      <td>0</td>\n",
       "      <td>1</td>\n",
       "    </tr>\n",
       "  </tbody>\n",
       "</table>\n",
       "</div>"
      ],
      "text/plain": [
       "   PassengerId  Survived  Pclass  \\\n",
       "0            1         0       3   \n",
       "1            2         1       1   \n",
       "2            3         1       3   \n",
       "3            4         1       1   \n",
       "4            5         0       3   \n",
       "\n",
       "                                                Name   Age  SibSp  Parch  \\\n",
       "0                            Braund, Mr. Owen Harris  22.0      1      0   \n",
       "1  Cumings, Mrs. John Bradley (Florence Briggs Th...  38.0      1      0   \n",
       "2                             Heikkinen, Miss. Laina  26.0      0      0   \n",
       "3       Futrelle, Mrs. Jacques Heath (Lily May Peel)  35.0      1      0   \n",
       "4                           Allen, Mr. William Henry  35.0      0      0   \n",
       "\n",
       "             Ticket     Fare Cabin    Surname  Sex_female  Sex_male  \\\n",
       "0         A/5 21171   7.2500   NaN     Braund           0         1   \n",
       "1          PC 17599  71.2833   C85    Cumings           1         0   \n",
       "2  STON/O2. 3101282   7.9250   NaN  Heikkinen           1         0   \n",
       "3            113803  53.1000  C123   Futrelle           1         0   \n",
       "4            373450   8.0500   NaN      Allen           0         1   \n",
       "\n",
       "   AgeGroup_Adult  AgeGroup_Child  AgeGroup_Infant  AgeGroup_Senior  \\\n",
       "0               1               0                0                0   \n",
       "1               1               0                0                0   \n",
       "2               1               0                0                0   \n",
       "3               1               0                0                0   \n",
       "4               1               0                0                0   \n",
       "\n",
       "   AgeGroup_Teen  AgeGroup_Unknown  Embarked_C  Embarked_Q  Embarked_S  \\\n",
       "0              0                 0           0           0           1   \n",
       "1              0                 0           1           0           0   \n",
       "2              0                 0           0           0           1   \n",
       "3              0                 0           0           0           1   \n",
       "4              0                 0           0           0           1   \n",
       "\n",
       "   Embarked_U  CabinSection_A  CabinSection_B  CabinSection_C  CabinSection_D  \\\n",
       "0           0               0               0               0               0   \n",
       "1           0               0               0               1               0   \n",
       "2           0               0               0               0               0   \n",
       "3           0               0               0               1               0   \n",
       "4           0               0               0               0               0   \n",
       "\n",
       "   CabinSection_E  CabinSection_F  CabinSection_G  CabinSection_T  \\\n",
       "0               0               0               0               0   \n",
       "1               0               0               0               0   \n",
       "2               0               0               0               0   \n",
       "3               0               0               0               0   \n",
       "4               0               0               0               0   \n",
       "\n",
       "   FareGroup_HighFare  FareGroup_LowFare  FareGroup_MediumFare  \n",
       "0                   0                  1                     0  \n",
       "1                   1                  0                     0  \n",
       "2                   0                  0                     1  \n",
       "3                   1                  0                     0  \n",
       "4                   0                  0                     1  "
      ]
     },
     "execution_count": 786,
     "metadata": {},
     "output_type": "execute_result"
    }
   ],
   "source": [
    "train_data.head()"
   ]
  },
  {
   "cell_type": "code",
   "execution_count": 787,
   "metadata": {},
   "outputs": [],
   "source": [
    "train_data['FirstClass'] = np.where(train_data['Pclass']== 1, 1, 0)"
   ]
  },
  {
   "cell_type": "code",
   "execution_count": 788,
   "metadata": {},
   "outputs": [],
   "source": [
    "train_data['SecondClass'] = np.where(train_data['Pclass']== 2, 1, 0)"
   ]
  },
  {
   "cell_type": "code",
   "execution_count": 789,
   "metadata": {},
   "outputs": [],
   "source": [
    "train_data['ThirdClass'] = np.where(train_data['Pclass']== 3, 1, 0)"
   ]
  },
  {
   "cell_type": "code",
   "execution_count": 790,
   "metadata": {},
   "outputs": [],
   "source": [
    "pd.set_option('display.max_columns', None)"
   ]
  },
  {
   "cell_type": "code",
   "execution_count": 791,
   "metadata": {},
   "outputs": [
    {
     "data": {
      "text/plain": [
       "PassengerId               0\n",
       "Survived                  0\n",
       "Pclass                    0\n",
       "Name                      0\n",
       "Age                       0\n",
       "SibSp                     0\n",
       "Parch                     0\n",
       "Ticket                    0\n",
       "Fare                      0\n",
       "Cabin                   687\n",
       "Surname                   0\n",
       "Sex_female                0\n",
       "Sex_male                  0\n",
       "AgeGroup_Adult            0\n",
       "AgeGroup_Child            0\n",
       "AgeGroup_Infant           0\n",
       "AgeGroup_Senior           0\n",
       "AgeGroup_Teen             0\n",
       "AgeGroup_Unknown          0\n",
       "Embarked_C                0\n",
       "Embarked_Q                0\n",
       "Embarked_S                0\n",
       "Embarked_U                0\n",
       "CabinSection_A            0\n",
       "CabinSection_B            0\n",
       "CabinSection_C            0\n",
       "CabinSection_D            0\n",
       "CabinSection_E            0\n",
       "CabinSection_F            0\n",
       "CabinSection_G            0\n",
       "CabinSection_T            0\n",
       "FareGroup_HighFare        0\n",
       "FareGroup_LowFare         0\n",
       "FareGroup_MediumFare      0\n",
       "FirstClass                0\n",
       "SecondClass               0\n",
       "ThirdClass                0\n",
       "dtype: int64"
      ]
     },
     "execution_count": 791,
     "metadata": {},
     "output_type": "execute_result"
    }
   ],
   "source": [
    "train_data.isnull().sum()"
   ]
  },
  {
   "cell_type": "code",
   "execution_count": 792,
   "metadata": {},
   "outputs": [
    {
     "data": {
      "text/html": [
       "<div>\n",
       "<style scoped>\n",
       "    .dataframe tbody tr th:only-of-type {\n",
       "        vertical-align: middle;\n",
       "    }\n",
       "\n",
       "    .dataframe tbody tr th {\n",
       "        vertical-align: top;\n",
       "    }\n",
       "\n",
       "    .dataframe thead th {\n",
       "        text-align: right;\n",
       "    }\n",
       "</style>\n",
       "<table border=\"1\" class=\"dataframe\">\n",
       "  <thead>\n",
       "    <tr style=\"text-align: right;\">\n",
       "      <th></th>\n",
       "      <th>PassengerId</th>\n",
       "      <th>Survived</th>\n",
       "      <th>Pclass</th>\n",
       "      <th>Name</th>\n",
       "      <th>Age</th>\n",
       "      <th>SibSp</th>\n",
       "      <th>Parch</th>\n",
       "      <th>Ticket</th>\n",
       "      <th>Fare</th>\n",
       "      <th>Cabin</th>\n",
       "      <th>Surname</th>\n",
       "      <th>Sex_female</th>\n",
       "      <th>Sex_male</th>\n",
       "      <th>AgeGroup_Adult</th>\n",
       "      <th>AgeGroup_Child</th>\n",
       "      <th>AgeGroup_Infant</th>\n",
       "      <th>AgeGroup_Senior</th>\n",
       "      <th>AgeGroup_Teen</th>\n",
       "      <th>AgeGroup_Unknown</th>\n",
       "      <th>Embarked_C</th>\n",
       "      <th>Embarked_Q</th>\n",
       "      <th>Embarked_S</th>\n",
       "      <th>Embarked_U</th>\n",
       "      <th>CabinSection_A</th>\n",
       "      <th>CabinSection_B</th>\n",
       "      <th>CabinSection_C</th>\n",
       "      <th>CabinSection_D</th>\n",
       "      <th>CabinSection_E</th>\n",
       "      <th>CabinSection_F</th>\n",
       "      <th>CabinSection_G</th>\n",
       "      <th>CabinSection_T</th>\n",
       "      <th>FareGroup_HighFare</th>\n",
       "      <th>FareGroup_LowFare</th>\n",
       "      <th>FareGroup_MediumFare</th>\n",
       "      <th>FirstClass</th>\n",
       "      <th>SecondClass</th>\n",
       "      <th>ThirdClass</th>\n",
       "    </tr>\n",
       "  </thead>\n",
       "  <tbody>\n",
       "    <tr>\n",
       "      <th>0</th>\n",
       "      <td>1</td>\n",
       "      <td>0</td>\n",
       "      <td>3</td>\n",
       "      <td>Braund, Mr. Owen Harris</td>\n",
       "      <td>22.0</td>\n",
       "      <td>1</td>\n",
       "      <td>0</td>\n",
       "      <td>A/5 21171</td>\n",
       "      <td>7.2500</td>\n",
       "      <td>NaN</td>\n",
       "      <td>Braund</td>\n",
       "      <td>0</td>\n",
       "      <td>1</td>\n",
       "      <td>1</td>\n",
       "      <td>0</td>\n",
       "      <td>0</td>\n",
       "      <td>0</td>\n",
       "      <td>0</td>\n",
       "      <td>0</td>\n",
       "      <td>0</td>\n",
       "      <td>0</td>\n",
       "      <td>1</td>\n",
       "      <td>0</td>\n",
       "      <td>0</td>\n",
       "      <td>0</td>\n",
       "      <td>0</td>\n",
       "      <td>0</td>\n",
       "      <td>0</td>\n",
       "      <td>0</td>\n",
       "      <td>0</td>\n",
       "      <td>0</td>\n",
       "      <td>0</td>\n",
       "      <td>1</td>\n",
       "      <td>0</td>\n",
       "      <td>0</td>\n",
       "      <td>0</td>\n",
       "      <td>1</td>\n",
       "    </tr>\n",
       "    <tr>\n",
       "      <th>1</th>\n",
       "      <td>2</td>\n",
       "      <td>1</td>\n",
       "      <td>1</td>\n",
       "      <td>Cumings, Mrs. John Bradley (Florence Briggs Th...</td>\n",
       "      <td>38.0</td>\n",
       "      <td>1</td>\n",
       "      <td>0</td>\n",
       "      <td>PC 17599</td>\n",
       "      <td>71.2833</td>\n",
       "      <td>C85</td>\n",
       "      <td>Cumings</td>\n",
       "      <td>1</td>\n",
       "      <td>0</td>\n",
       "      <td>1</td>\n",
       "      <td>0</td>\n",
       "      <td>0</td>\n",
       "      <td>0</td>\n",
       "      <td>0</td>\n",
       "      <td>0</td>\n",
       "      <td>1</td>\n",
       "      <td>0</td>\n",
       "      <td>0</td>\n",
       "      <td>0</td>\n",
       "      <td>0</td>\n",
       "      <td>0</td>\n",
       "      <td>1</td>\n",
       "      <td>0</td>\n",
       "      <td>0</td>\n",
       "      <td>0</td>\n",
       "      <td>0</td>\n",
       "      <td>0</td>\n",
       "      <td>1</td>\n",
       "      <td>0</td>\n",
       "      <td>0</td>\n",
       "      <td>1</td>\n",
       "      <td>0</td>\n",
       "      <td>0</td>\n",
       "    </tr>\n",
       "    <tr>\n",
       "      <th>2</th>\n",
       "      <td>3</td>\n",
       "      <td>1</td>\n",
       "      <td>3</td>\n",
       "      <td>Heikkinen, Miss. Laina</td>\n",
       "      <td>26.0</td>\n",
       "      <td>0</td>\n",
       "      <td>0</td>\n",
       "      <td>STON/O2. 3101282</td>\n",
       "      <td>7.9250</td>\n",
       "      <td>NaN</td>\n",
       "      <td>Heikkinen</td>\n",
       "      <td>1</td>\n",
       "      <td>0</td>\n",
       "      <td>1</td>\n",
       "      <td>0</td>\n",
       "      <td>0</td>\n",
       "      <td>0</td>\n",
       "      <td>0</td>\n",
       "      <td>0</td>\n",
       "      <td>0</td>\n",
       "      <td>0</td>\n",
       "      <td>1</td>\n",
       "      <td>0</td>\n",
       "      <td>0</td>\n",
       "      <td>0</td>\n",
       "      <td>0</td>\n",
       "      <td>0</td>\n",
       "      <td>0</td>\n",
       "      <td>0</td>\n",
       "      <td>0</td>\n",
       "      <td>0</td>\n",
       "      <td>0</td>\n",
       "      <td>0</td>\n",
       "      <td>1</td>\n",
       "      <td>0</td>\n",
       "      <td>0</td>\n",
       "      <td>1</td>\n",
       "    </tr>\n",
       "    <tr>\n",
       "      <th>3</th>\n",
       "      <td>4</td>\n",
       "      <td>1</td>\n",
       "      <td>1</td>\n",
       "      <td>Futrelle, Mrs. Jacques Heath (Lily May Peel)</td>\n",
       "      <td>35.0</td>\n",
       "      <td>1</td>\n",
       "      <td>0</td>\n",
       "      <td>113803</td>\n",
       "      <td>53.1000</td>\n",
       "      <td>C123</td>\n",
       "      <td>Futrelle</td>\n",
       "      <td>1</td>\n",
       "      <td>0</td>\n",
       "      <td>1</td>\n",
       "      <td>0</td>\n",
       "      <td>0</td>\n",
       "      <td>0</td>\n",
       "      <td>0</td>\n",
       "      <td>0</td>\n",
       "      <td>0</td>\n",
       "      <td>0</td>\n",
       "      <td>1</td>\n",
       "      <td>0</td>\n",
       "      <td>0</td>\n",
       "      <td>0</td>\n",
       "      <td>1</td>\n",
       "      <td>0</td>\n",
       "      <td>0</td>\n",
       "      <td>0</td>\n",
       "      <td>0</td>\n",
       "      <td>0</td>\n",
       "      <td>1</td>\n",
       "      <td>0</td>\n",
       "      <td>0</td>\n",
       "      <td>1</td>\n",
       "      <td>0</td>\n",
       "      <td>0</td>\n",
       "    </tr>\n",
       "    <tr>\n",
       "      <th>4</th>\n",
       "      <td>5</td>\n",
       "      <td>0</td>\n",
       "      <td>3</td>\n",
       "      <td>Allen, Mr. William Henry</td>\n",
       "      <td>35.0</td>\n",
       "      <td>0</td>\n",
       "      <td>0</td>\n",
       "      <td>373450</td>\n",
       "      <td>8.0500</td>\n",
       "      <td>NaN</td>\n",
       "      <td>Allen</td>\n",
       "      <td>0</td>\n",
       "      <td>1</td>\n",
       "      <td>1</td>\n",
       "      <td>0</td>\n",
       "      <td>0</td>\n",
       "      <td>0</td>\n",
       "      <td>0</td>\n",
       "      <td>0</td>\n",
       "      <td>0</td>\n",
       "      <td>0</td>\n",
       "      <td>1</td>\n",
       "      <td>0</td>\n",
       "      <td>0</td>\n",
       "      <td>0</td>\n",
       "      <td>0</td>\n",
       "      <td>0</td>\n",
       "      <td>0</td>\n",
       "      <td>0</td>\n",
       "      <td>0</td>\n",
       "      <td>0</td>\n",
       "      <td>0</td>\n",
       "      <td>0</td>\n",
       "      <td>1</td>\n",
       "      <td>0</td>\n",
       "      <td>0</td>\n",
       "      <td>1</td>\n",
       "    </tr>\n",
       "  </tbody>\n",
       "</table>\n",
       "</div>"
      ],
      "text/plain": [
       "   PassengerId  Survived  Pclass  \\\n",
       "0            1         0       3   \n",
       "1            2         1       1   \n",
       "2            3         1       3   \n",
       "3            4         1       1   \n",
       "4            5         0       3   \n",
       "\n",
       "                                                Name   Age  SibSp  Parch  \\\n",
       "0                            Braund, Mr. Owen Harris  22.0      1      0   \n",
       "1  Cumings, Mrs. John Bradley (Florence Briggs Th...  38.0      1      0   \n",
       "2                             Heikkinen, Miss. Laina  26.0      0      0   \n",
       "3       Futrelle, Mrs. Jacques Heath (Lily May Peel)  35.0      1      0   \n",
       "4                           Allen, Mr. William Henry  35.0      0      0   \n",
       "\n",
       "             Ticket     Fare Cabin    Surname  Sex_female  Sex_male  \\\n",
       "0         A/5 21171   7.2500   NaN     Braund           0         1   \n",
       "1          PC 17599  71.2833   C85    Cumings           1         0   \n",
       "2  STON/O2. 3101282   7.9250   NaN  Heikkinen           1         0   \n",
       "3            113803  53.1000  C123   Futrelle           1         0   \n",
       "4            373450   8.0500   NaN      Allen           0         1   \n",
       "\n",
       "   AgeGroup_Adult  AgeGroup_Child  AgeGroup_Infant  AgeGroup_Senior  \\\n",
       "0               1               0                0                0   \n",
       "1               1               0                0                0   \n",
       "2               1               0                0                0   \n",
       "3               1               0                0                0   \n",
       "4               1               0                0                0   \n",
       "\n",
       "   AgeGroup_Teen  AgeGroup_Unknown  Embarked_C  Embarked_Q  Embarked_S  \\\n",
       "0              0                 0           0           0           1   \n",
       "1              0                 0           1           0           0   \n",
       "2              0                 0           0           0           1   \n",
       "3              0                 0           0           0           1   \n",
       "4              0                 0           0           0           1   \n",
       "\n",
       "   Embarked_U  CabinSection_A  CabinSection_B  CabinSection_C  CabinSection_D  \\\n",
       "0           0               0               0               0               0   \n",
       "1           0               0               0               1               0   \n",
       "2           0               0               0               0               0   \n",
       "3           0               0               0               1               0   \n",
       "4           0               0               0               0               0   \n",
       "\n",
       "   CabinSection_E  CabinSection_F  CabinSection_G  CabinSection_T  \\\n",
       "0               0               0               0               0   \n",
       "1               0               0               0               0   \n",
       "2               0               0               0               0   \n",
       "3               0               0               0               0   \n",
       "4               0               0               0               0   \n",
       "\n",
       "   FareGroup_HighFare  FareGroup_LowFare  FareGroup_MediumFare  FirstClass  \\\n",
       "0                   0                  1                     0           0   \n",
       "1                   1                  0                     0           1   \n",
       "2                   0                  0                     1           0   \n",
       "3                   1                  0                     0           1   \n",
       "4                   0                  0                     1           0   \n",
       "\n",
       "   SecondClass  ThirdClass  \n",
       "0            0           1  \n",
       "1            0           0  \n",
       "2            0           1  \n",
       "3            0           0  \n",
       "4            0           1  "
      ]
     },
     "execution_count": 792,
     "metadata": {},
     "output_type": "execute_result"
    }
   ],
   "source": [
    "train_data.head(5)"
   ]
  },
  {
   "cell_type": "code",
   "execution_count": 793,
   "metadata": {},
   "outputs": [],
   "source": [
    "X = train_data[['Age', 'SibSp', 'Parch', 'Fare', 'Sex_female', \n",
    "                'Sex_male', 'Embarked_C', 'Embarked_Q', 'Embarked_S', 'Embarked_U', 'CabinSection_A',\n",
    "               'CabinSection_B', 'CabinSection_C', 'CabinSection_D', 'CabinSection_E', 'CabinSection_F',\n",
    "               'CabinSection_G', 'CabinSection_T', 'FirstClass', 'SecondClass', 'ThirdClass']]"
   ]
  },
  {
   "cell_type": "code",
   "execution_count": 794,
   "metadata": {},
   "outputs": [],
   "source": [
    "y = train_data['Survived']"
   ]
  },
  {
   "cell_type": "code",
   "execution_count": 795,
   "metadata": {},
   "outputs": [],
   "source": [
    "clf = DecisionTreeClassifier()"
   ]
  },
  {
   "cell_type": "code",
   "execution_count": 796,
   "metadata": {},
   "outputs": [],
   "source": [
    "clf = clf.fit(X, y)"
   ]
  },
  {
   "cell_type": "code",
   "execution_count": 797,
   "metadata": {},
   "outputs": [],
   "source": [
    "test = pd.read_csv('test.csv')"
   ]
  },
  {
   "cell_type": "code",
   "execution_count": 798,
   "metadata": {},
   "outputs": [
    {
     "data": {
      "text/html": [
       "<div>\n",
       "<style scoped>\n",
       "    .dataframe tbody tr th:only-of-type {\n",
       "        vertical-align: middle;\n",
       "    }\n",
       "\n",
       "    .dataframe tbody tr th {\n",
       "        vertical-align: top;\n",
       "    }\n",
       "\n",
       "    .dataframe thead th {\n",
       "        text-align: right;\n",
       "    }\n",
       "</style>\n",
       "<table border=\"1\" class=\"dataframe\">\n",
       "  <thead>\n",
       "    <tr style=\"text-align: right;\">\n",
       "      <th></th>\n",
       "      <th>PassengerId</th>\n",
       "      <th>Pclass</th>\n",
       "      <th>Name</th>\n",
       "      <th>Sex</th>\n",
       "      <th>Age</th>\n",
       "      <th>SibSp</th>\n",
       "      <th>Parch</th>\n",
       "      <th>Ticket</th>\n",
       "      <th>Fare</th>\n",
       "      <th>Cabin</th>\n",
       "      <th>Embarked</th>\n",
       "    </tr>\n",
       "  </thead>\n",
       "  <tbody>\n",
       "    <tr>\n",
       "      <th>0</th>\n",
       "      <td>892</td>\n",
       "      <td>3</td>\n",
       "      <td>Kelly, Mr. James</td>\n",
       "      <td>male</td>\n",
       "      <td>34.5</td>\n",
       "      <td>0</td>\n",
       "      <td>0</td>\n",
       "      <td>330911</td>\n",
       "      <td>7.8292</td>\n",
       "      <td>NaN</td>\n",
       "      <td>Q</td>\n",
       "    </tr>\n",
       "    <tr>\n",
       "      <th>1</th>\n",
       "      <td>893</td>\n",
       "      <td>3</td>\n",
       "      <td>Wilkes, Mrs. James (Ellen Needs)</td>\n",
       "      <td>female</td>\n",
       "      <td>47.0</td>\n",
       "      <td>1</td>\n",
       "      <td>0</td>\n",
       "      <td>363272</td>\n",
       "      <td>7.0000</td>\n",
       "      <td>NaN</td>\n",
       "      <td>S</td>\n",
       "    </tr>\n",
       "    <tr>\n",
       "      <th>2</th>\n",
       "      <td>894</td>\n",
       "      <td>2</td>\n",
       "      <td>Myles, Mr. Thomas Francis</td>\n",
       "      <td>male</td>\n",
       "      <td>62.0</td>\n",
       "      <td>0</td>\n",
       "      <td>0</td>\n",
       "      <td>240276</td>\n",
       "      <td>9.6875</td>\n",
       "      <td>NaN</td>\n",
       "      <td>Q</td>\n",
       "    </tr>\n",
       "    <tr>\n",
       "      <th>3</th>\n",
       "      <td>895</td>\n",
       "      <td>3</td>\n",
       "      <td>Wirz, Mr. Albert</td>\n",
       "      <td>male</td>\n",
       "      <td>27.0</td>\n",
       "      <td>0</td>\n",
       "      <td>0</td>\n",
       "      <td>315154</td>\n",
       "      <td>8.6625</td>\n",
       "      <td>NaN</td>\n",
       "      <td>S</td>\n",
       "    </tr>\n",
       "    <tr>\n",
       "      <th>4</th>\n",
       "      <td>896</td>\n",
       "      <td>3</td>\n",
       "      <td>Hirvonen, Mrs. Alexander (Helga E Lindqvist)</td>\n",
       "      <td>female</td>\n",
       "      <td>22.0</td>\n",
       "      <td>1</td>\n",
       "      <td>1</td>\n",
       "      <td>3101298</td>\n",
       "      <td>12.2875</td>\n",
       "      <td>NaN</td>\n",
       "      <td>S</td>\n",
       "    </tr>\n",
       "  </tbody>\n",
       "</table>\n",
       "</div>"
      ],
      "text/plain": [
       "   PassengerId  Pclass                                          Name     Sex  \\\n",
       "0          892       3                              Kelly, Mr. James    male   \n",
       "1          893       3              Wilkes, Mrs. James (Ellen Needs)  female   \n",
       "2          894       2                     Myles, Mr. Thomas Francis    male   \n",
       "3          895       3                              Wirz, Mr. Albert    male   \n",
       "4          896       3  Hirvonen, Mrs. Alexander (Helga E Lindqvist)  female   \n",
       "\n",
       "    Age  SibSp  Parch   Ticket     Fare Cabin Embarked  \n",
       "0  34.5      0      0   330911   7.8292   NaN        Q  \n",
       "1  47.0      1      0   363272   7.0000   NaN        S  \n",
       "2  62.0      0      0   240276   9.6875   NaN        Q  \n",
       "3  27.0      0      0   315154   8.6625   NaN        S  \n",
       "4  22.0      1      1  3101298  12.2875   NaN        S  "
      ]
     },
     "execution_count": 798,
     "metadata": {},
     "output_type": "execute_result"
    }
   ],
   "source": [
    "test.head()"
   ]
  },
  {
   "cell_type": "code",
   "execution_count": 799,
   "metadata": {},
   "outputs": [],
   "source": [
    "test['CabinSection'] = test['Cabin'].str[0:1]"
   ]
  },
  {
   "cell_type": "code",
   "execution_count": 800,
   "metadata": {},
   "outputs": [
    {
     "data": {
      "text/plain": [
       "PassengerId       0\n",
       "Pclass            0\n",
       "Name              0\n",
       "Sex               0\n",
       "Age              86\n",
       "SibSp             0\n",
       "Parch             0\n",
       "Ticket            0\n",
       "Fare              1\n",
       "Cabin           327\n",
       "Embarked          0\n",
       "CabinSection    327\n",
       "dtype: int64"
      ]
     },
     "execution_count": 800,
     "metadata": {},
     "output_type": "execute_result"
    }
   ],
   "source": [
    "test.isnull().sum()"
   ]
  },
  {
   "cell_type": "code",
   "execution_count": 801,
   "metadata": {},
   "outputs": [],
   "source": [
    "test['CabinSection'] = test['CabinSection'].fillna('U')"
   ]
  },
  {
   "cell_type": "code",
   "execution_count": 802,
   "metadata": {},
   "outputs": [],
   "source": [
    "test_age_mean = test['Age'].mean()"
   ]
  },
  {
   "cell_type": "code",
   "execution_count": 803,
   "metadata": {},
   "outputs": [],
   "source": [
    "test['Age'] = test['Age'].fillna(test_age_mean)"
   ]
  },
  {
   "cell_type": "code",
   "execution_count": 807,
   "metadata": {},
   "outputs": [],
   "source": [
    "test['AgeGroup'] = test['Age'].apply(categorize_age)"
   ]
  },
  {
   "cell_type": "code",
   "execution_count": 808,
   "metadata": {},
   "outputs": [],
   "source": [
    "test['AgeGroup'] = test['AgeGroup'].fillna('Unknown')"
   ]
  },
  {
   "cell_type": "code",
   "execution_count": 809,
   "metadata": {},
   "outputs": [],
   "source": [
    "test_fare_mean = test['Fare'].mean()"
   ]
  },
  {
   "cell_type": "code",
   "execution_count": 810,
   "metadata": {},
   "outputs": [],
   "source": [
    "test['Fare'] = test['Fare'].fillna(test_fare_mean)"
   ]
  },
  {
   "cell_type": "code",
   "execution_count": 811,
   "metadata": {},
   "outputs": [],
   "source": [
    "def categorize_fare(fare):\n",
    "    if fare <= percentile25:\n",
    "        return 'LowFare'\n",
    "    elif fare <= percentile75:\n",
    "        return 'MediumFare'\n",
    "    elif fare > percentile75:\n",
    "        return 'HighFare'\n",
    "    else:\n",
    "        return fare"
   ]
  },
  {
   "cell_type": "code",
   "execution_count": 812,
   "metadata": {},
   "outputs": [],
   "source": [
    "test['FareGroup'] = test['Fare'].apply(categorize_fare)"
   ]
  },
  {
   "cell_type": "code",
   "execution_count": 813,
   "metadata": {},
   "outputs": [
    {
     "data": {
      "text/plain": [
       "PassengerId       0\n",
       "Pclass            0\n",
       "Name              0\n",
       "Sex               0\n",
       "Age               0\n",
       "SibSp             0\n",
       "Parch             0\n",
       "Ticket            0\n",
       "Fare              0\n",
       "Cabin           327\n",
       "Embarked          0\n",
       "CabinSection      0\n",
       "AgeGroup          0\n",
       "FareGroup         0\n",
       "dtype: int64"
      ]
     },
     "execution_count": 813,
     "metadata": {},
     "output_type": "execute_result"
    }
   ],
   "source": [
    "test.isnull().sum()"
   ]
  },
  {
   "cell_type": "code",
   "execution_count": 814,
   "metadata": {},
   "outputs": [],
   "source": [
    "# test = pd.get_dummies(data=test, columns=['Sex', 'Cabin', 'Embarked', 'AgeGroup'])\n",
    "#test = pd.get_dummies(data=test, columns=['Sex', 'Embarked', 'AgeGroup', 'CabinSection', 'FareGroup'])\n",
    "test = pd.get_dummies(data=test, columns=['Sex', 'Embarked', 'AgeGroup', 'CabinSection', 'FareGroup'])\n"
   ]
  },
  {
   "cell_type": "code",
   "execution_count": 815,
   "metadata": {},
   "outputs": [],
   "source": [
    "test['FirstClass'] = np.where(test['Pclass']== 1, 1, 0)"
   ]
  },
  {
   "cell_type": "code",
   "execution_count": 816,
   "metadata": {},
   "outputs": [],
   "source": [
    "test['SecondClass'] = np.where(test['Pclass']== 2, 1, 0)"
   ]
  },
  {
   "cell_type": "code",
   "execution_count": 817,
   "metadata": {},
   "outputs": [],
   "source": [
    "test['ThirdClass'] = np.where(test['Pclass']== 3, 1, 0)"
   ]
  },
  {
   "cell_type": "code",
   "execution_count": 822,
   "metadata": {},
   "outputs": [],
   "source": [
    "test['Embarked_U'] = 0"
   ]
  },
  {
   "cell_type": "code",
   "execution_count": 823,
   "metadata": {},
   "outputs": [],
   "source": [
    "test['CabinSection_T'] = 0"
   ]
  },
  {
   "cell_type": "code",
   "execution_count": 826,
   "metadata": {},
   "outputs": [
    {
     "data": {
      "text/plain": [
       "Index(['PassengerId', 'Pclass', 'Name', 'Age', 'SibSp', 'Parch', 'Ticket',\n",
       "       'Fare', 'Cabin', 'Sex_female', 'Sex_male', 'Embarked_C', 'Embarked_Q',\n",
       "       'Embarked_S', 'AgeGroup_Adult', 'AgeGroup_Child', 'AgeGroup_Infant',\n",
       "       'AgeGroup_Senior', 'AgeGroup_Teen', 'CabinSection_A', 'CabinSection_B',\n",
       "       'CabinSection_C', 'CabinSection_D', 'CabinSection_E', 'CabinSection_F',\n",
       "       'CabinSection_G', 'CabinSection_U', 'FareGroup_HighFare',\n",
       "       'FareGroup_LowFare', 'FareGroup_MediumFare', 'FirstClass',\n",
       "       'SecondClass', 'ThirdClass', 'Embarked_U', 'CabinSection_T'],\n",
       "      dtype='object')"
      ]
     },
     "execution_count": 826,
     "metadata": {},
     "output_type": "execute_result"
    }
   ],
   "source": [
    "test.columns"
   ]
  },
  {
   "cell_type": "code",
   "execution_count": 827,
   "metadata": {},
   "outputs": [],
   "source": [
    "X_test = test[['Age', 'SibSp', 'Parch', 'Fare', 'Sex_female', \n",
    "                'Sex_male', 'Embarked_C', 'Embarked_Q', 'Embarked_S', 'Embarked_U', 'CabinSection_A',\n",
    "               'CabinSection_B', 'CabinSection_C', 'CabinSection_D', 'CabinSection_E', 'CabinSection_F',\n",
    "               'CabinSection_G', 'CabinSection_T', 'FirstClass', 'SecondClass', 'ThirdClass']]"
   ]
  },
  {
   "cell_type": "code",
   "execution_count": 828,
   "metadata": {},
   "outputs": [],
   "source": [
    "y_preds = clf.predict(X_test)"
   ]
  },
  {
   "cell_type": "code",
   "execution_count": 829,
   "metadata": {},
   "outputs": [],
   "source": [
    "#y_preds"
   ]
  },
  {
   "cell_type": "code",
   "execution_count": 830,
   "metadata": {},
   "outputs": [],
   "source": [
    "d = {'PassengerId': test['PassengerId'], 'Survived': y_preds}"
   ]
  },
  {
   "cell_type": "code",
   "execution_count": 831,
   "metadata": {},
   "outputs": [],
   "source": [
    "submission = pd.DataFrame(data=d)"
   ]
  },
  {
   "cell_type": "code",
   "execution_count": 832,
   "metadata": {},
   "outputs": [
    {
     "data": {
      "text/html": [
       "<div>\n",
       "<style scoped>\n",
       "    .dataframe tbody tr th:only-of-type {\n",
       "        vertical-align: middle;\n",
       "    }\n",
       "\n",
       "    .dataframe tbody tr th {\n",
       "        vertical-align: top;\n",
       "    }\n",
       "\n",
       "    .dataframe thead th {\n",
       "        text-align: right;\n",
       "    }\n",
       "</style>\n",
       "<table border=\"1\" class=\"dataframe\">\n",
       "  <thead>\n",
       "    <tr style=\"text-align: right;\">\n",
       "      <th></th>\n",
       "      <th>PassengerId</th>\n",
       "      <th>Survived</th>\n",
       "    </tr>\n",
       "  </thead>\n",
       "  <tbody>\n",
       "    <tr>\n",
       "      <th>0</th>\n",
       "      <td>892</td>\n",
       "      <td>0</td>\n",
       "    </tr>\n",
       "    <tr>\n",
       "      <th>1</th>\n",
       "      <td>893</td>\n",
       "      <td>0</td>\n",
       "    </tr>\n",
       "    <tr>\n",
       "      <th>2</th>\n",
       "      <td>894</td>\n",
       "      <td>1</td>\n",
       "    </tr>\n",
       "    <tr>\n",
       "      <th>3</th>\n",
       "      <td>895</td>\n",
       "      <td>1</td>\n",
       "    </tr>\n",
       "    <tr>\n",
       "      <th>4</th>\n",
       "      <td>896</td>\n",
       "      <td>1</td>\n",
       "    </tr>\n",
       "  </tbody>\n",
       "</table>\n",
       "</div>"
      ],
      "text/plain": [
       "   PassengerId  Survived\n",
       "0          892         0\n",
       "1          893         0\n",
       "2          894         1\n",
       "3          895         1\n",
       "4          896         1"
      ]
     },
     "execution_count": 832,
     "metadata": {},
     "output_type": "execute_result"
    }
   ],
   "source": [
    "submission.head()"
   ]
  },
  {
   "cell_type": "code",
   "execution_count": 833,
   "metadata": {},
   "outputs": [],
   "source": [
    "submission.to_csv('submission4.csv', index=False)"
   ]
  },
  {
   "cell_type": "code",
   "execution_count": null,
   "metadata": {},
   "outputs": [],
   "source": []
  }
 ],
 "metadata": {
  "kaggle": {
   "accelerator": "none",
   "dataSources": [
    {
     "databundleVersionId": 26502,
     "sourceId": 3136,
     "sourceType": "competition"
    }
   ],
   "dockerImageVersionId": 30804,
   "isGpuEnabled": false,
   "isInternetEnabled": true,
   "language": "python",
   "sourceType": "notebook"
  },
  "kernelspec": {
   "display_name": "Python 3",
   "language": "python",
   "name": "python3"
  },
  "language_info": {
   "codemirror_mode": {
    "name": "ipython",
    "version": 3
   },
   "file_extension": ".py",
   "mimetype": "text/x-python",
   "name": "python",
   "nbconvert_exporter": "python",
   "pygments_lexer": "ipython3",
   "version": "3.8.8"
  }
 },
 "nbformat": 4,
 "nbformat_minor": 4
}
